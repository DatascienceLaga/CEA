{
 "cells": [
  {
   "cell_type": "code",
   "execution_count": 36,
   "metadata": {
    "ExecuteTime": {
     "end_time": "2021-03-05T09:18:29.683311Z",
     "start_time": "2021-03-05T09:18:29.660279Z"
    }
   },
   "outputs": [],
   "source": [
    "import os\n",
    "\n",
    "import numpy as np\n",
    "import pandas as pd\n",
    "\n",
    "import seaborn as sns\n",
    "import matplotlib.pyplot as plt"
   ]
  },
  {
   "cell_type": "code",
   "execution_count": 37,
   "metadata": {
    "ExecuteTime": {
     "end_time": "2021-03-05T09:18:29.842276Z",
     "start_time": "2021-03-05T09:18:29.826279Z"
    }
   },
   "outputs": [],
   "source": [
    "pd.set_option('max_columns', None)"
   ]
  },
  {
   "cell_type": "code",
   "execution_count": 38,
   "metadata": {
    "ExecuteTime": {
     "end_time": "2021-03-05T09:18:29.970280Z",
     "start_time": "2021-03-05T09:18:29.965288Z"
    }
   },
   "outputs": [],
   "source": [
    "DATA_PATH = \"../../Data/TRANSFORMED_DATA/transformed_cea_data.csv\""
   ]
  },
  {
   "cell_type": "code",
   "execution_count": 39,
   "metadata": {
    "ExecuteTime": {
     "end_time": "2021-03-05T09:18:44.197887Z",
     "start_time": "2021-03-05T09:18:30.254908Z"
    }
   },
   "outputs": [],
   "source": [
    "df = pd.read_csv(DATA_PATH)"
   ]
  },
  {
   "cell_type": "code",
   "execution_count": 40,
   "metadata": {
    "ExecuteTime": {
     "end_time": "2021-03-05T09:18:45.147806Z",
     "start_time": "2021-03-05T09:18:44.200799Z"
    }
   },
   "outputs": [],
   "source": [
    "df.dropna(inplace=True)"
   ]
  },
  {
   "cell_type": "code",
   "execution_count": 41,
   "metadata": {
    "ExecuteTime": {
     "end_time": "2021-03-05T09:18:45.243795Z",
     "start_time": "2021-03-05T09:18:45.150800Z"
    }
   },
   "outputs": [
    {
     "data": {
      "text/html": [
       "<div>\n",
       "<style scoped>\n",
       "    .dataframe tbody tr th:only-of-type {\n",
       "        vertical-align: middle;\n",
       "    }\n",
       "\n",
       "    .dataframe tbody tr th {\n",
       "        vertical-align: top;\n",
       "    }\n",
       "\n",
       "    .dataframe thead th {\n",
       "        text-align: right;\n",
       "    }\n",
       "</style>\n",
       "<table border=\"1\" class=\"dataframe\">\n",
       "  <thead>\n",
       "    <tr style=\"text-align: right;\">\n",
       "      <th></th>\n",
       "      <th>id_pat</th>\n",
       "      <th>date</th>\n",
       "      <th>activity</th>\n",
       "      <th>timeline</th>\n",
       "      <th>Avant_pied_droit_appui</th>\n",
       "      <th>Medio_pied_droit_appui</th>\n",
       "      <th>Arriere_pied_droit_appui</th>\n",
       "      <th>Avant_pied_gauche_appui</th>\n",
       "      <th>Medio_pied_gauche_appui</th>\n",
       "      <th>Arriere_pied_gauche_appui</th>\n",
       "      <th>Semelle_Droite_Capt_1</th>\n",
       "      <th>Semelle_Droite_Capt_2</th>\n",
       "      <th>Semelle_Droite_Capt_3</th>\n",
       "      <th>Semelle_Droite_Capt_4</th>\n",
       "      <th>Semelle_Droite_Capt_5</th>\n",
       "      <th>Semelle_Droite_Capt_6</th>\n",
       "      <th>Semelle_Droite_Capt_7</th>\n",
       "      <th>Semelle_Droite_Capt_8</th>\n",
       "      <th>Semelle_Droite_Capt_9</th>\n",
       "      <th>Semelle_Droite_Capt_10</th>\n",
       "      <th>Semelle_Gauche_Capt_1</th>\n",
       "      <th>Semelle_Gauche_Capt_2</th>\n",
       "      <th>Semelle_Gauche_Capt_3</th>\n",
       "      <th>Semelle_Gauche_Capt_4</th>\n",
       "      <th>Semelle_Gauche_Capt_5</th>\n",
       "      <th>Semelle_Gauche_Capt_6</th>\n",
       "      <th>Semelle_Gauche_Capt_7</th>\n",
       "      <th>Semelle_Gauche_Capt_8</th>\n",
       "      <th>Semelle_Gauche_Capt_9</th>\n",
       "      <th>Semelle_Gauche_Capt_10</th>\n",
       "      <th>Te</th>\n",
       "      <th>CI_Droit_qui_se_leve</th>\n",
       "      <th>CI_Droit_qui_se_pose</th>\n",
       "      <th>CI_Gauche_qui_se_leve</th>\n",
       "      <th>CI_Gauche_qui_se_pose</th>\n",
       "      <th>Acc_x_G</th>\n",
       "      <th>Acc_y_G</th>\n",
       "      <th>Acc_z_G</th>\n",
       "      <th>Gyro_x_G</th>\n",
       "      <th>Gyro_y_G</th>\n",
       "      <th>Gyro_z_G</th>\n",
       "      <th>Acc_x_D</th>\n",
       "      <th>Acc_y_D</th>\n",
       "      <th>Acc_z_D</th>\n",
       "      <th>Gyro_x_D</th>\n",
       "      <th>Gyro_y_D</th>\n",
       "      <th>Gyro_z_D</th>\n",
       "      <th>appui_leve_droit</th>\n",
       "      <th>appui_leve_gauche</th>\n",
       "    </tr>\n",
       "  </thead>\n",
       "  <tbody>\n",
       "    <tr>\n",
       "      <th>0</th>\n",
       "      <td>P01</td>\n",
       "      <td>2019-05-07</td>\n",
       "      <td>2minBassin</td>\n",
       "      <td>0.000000</td>\n",
       "      <td>1.0</td>\n",
       "      <td>0.0</td>\n",
       "      <td>0.0</td>\n",
       "      <td>0.0</td>\n",
       "      <td>1.0</td>\n",
       "      <td>0.0</td>\n",
       "      <td>49.0</td>\n",
       "      <td>19.0</td>\n",
       "      <td>18.0</td>\n",
       "      <td>34.0</td>\n",
       "      <td>30.0</td>\n",
       "      <td>34.0</td>\n",
       "      <td>40.0</td>\n",
       "      <td>19.0</td>\n",
       "      <td>63.0</td>\n",
       "      <td>11.0</td>\n",
       "      <td>5.0</td>\n",
       "      <td>7.0</td>\n",
       "      <td>12.0</td>\n",
       "      <td>45.0</td>\n",
       "      <td>30.0</td>\n",
       "      <td>17.0</td>\n",
       "      <td>11.0</td>\n",
       "      <td>15.0</td>\n",
       "      <td>11.0</td>\n",
       "      <td>15.0</td>\n",
       "      <td>0.025575</td>\n",
       "      <td>0.0</td>\n",
       "      <td>0.0</td>\n",
       "      <td>0.0</td>\n",
       "      <td>0.0</td>\n",
       "      <td>2.50</td>\n",
       "      <td>-9.38</td>\n",
       "      <td>0.25</td>\n",
       "      <td>-0.025089</td>\n",
       "      <td>-0.001091</td>\n",
       "      <td>0.021817</td>\n",
       "      <td>-0.12</td>\n",
       "      <td>-9.38</td>\n",
       "      <td>2.67</td>\n",
       "      <td>-0.002182</td>\n",
       "      <td>-0.005454</td>\n",
       "      <td>-0.001091</td>\n",
       "      <td>0.0</td>\n",
       "      <td>0.0</td>\n",
       "    </tr>\n",
       "    <tr>\n",
       "      <th>1</th>\n",
       "      <td>P01</td>\n",
       "      <td>2019-05-07</td>\n",
       "      <td>2minBassin</td>\n",
       "      <td>0.025575</td>\n",
       "      <td>1.0</td>\n",
       "      <td>0.0</td>\n",
       "      <td>0.0</td>\n",
       "      <td>0.0</td>\n",
       "      <td>1.0</td>\n",
       "      <td>0.0</td>\n",
       "      <td>49.0</td>\n",
       "      <td>19.0</td>\n",
       "      <td>18.0</td>\n",
       "      <td>34.0</td>\n",
       "      <td>30.0</td>\n",
       "      <td>34.0</td>\n",
       "      <td>40.0</td>\n",
       "      <td>19.0</td>\n",
       "      <td>62.0</td>\n",
       "      <td>11.0</td>\n",
       "      <td>5.0</td>\n",
       "      <td>7.0</td>\n",
       "      <td>12.0</td>\n",
       "      <td>45.0</td>\n",
       "      <td>30.0</td>\n",
       "      <td>17.0</td>\n",
       "      <td>10.0</td>\n",
       "      <td>15.0</td>\n",
       "      <td>11.0</td>\n",
       "      <td>15.0</td>\n",
       "      <td>0.025575</td>\n",
       "      <td>0.0</td>\n",
       "      <td>0.0</td>\n",
       "      <td>0.0</td>\n",
       "      <td>0.0</td>\n",
       "      <td>2.43</td>\n",
       "      <td>-9.51</td>\n",
       "      <td>0.34</td>\n",
       "      <td>-0.013090</td>\n",
       "      <td>-0.021817</td>\n",
       "      <td>0.005454</td>\n",
       "      <td>-0.15</td>\n",
       "      <td>-9.37</td>\n",
       "      <td>2.66</td>\n",
       "      <td>-0.001091</td>\n",
       "      <td>-0.001091</td>\n",
       "      <td>-0.004363</td>\n",
       "      <td>0.0</td>\n",
       "      <td>0.0</td>\n",
       "    </tr>\n",
       "    <tr>\n",
       "      <th>2</th>\n",
       "      <td>P01</td>\n",
       "      <td>2019-05-07</td>\n",
       "      <td>2minBassin</td>\n",
       "      <td>0.051151</td>\n",
       "      <td>1.0</td>\n",
       "      <td>0.0</td>\n",
       "      <td>0.0</td>\n",
       "      <td>0.0</td>\n",
       "      <td>1.0</td>\n",
       "      <td>0.0</td>\n",
       "      <td>50.0</td>\n",
       "      <td>19.0</td>\n",
       "      <td>18.0</td>\n",
       "      <td>34.0</td>\n",
       "      <td>30.0</td>\n",
       "      <td>34.0</td>\n",
       "      <td>40.0</td>\n",
       "      <td>19.0</td>\n",
       "      <td>62.0</td>\n",
       "      <td>11.0</td>\n",
       "      <td>5.0</td>\n",
       "      <td>7.0</td>\n",
       "      <td>12.0</td>\n",
       "      <td>45.0</td>\n",
       "      <td>30.0</td>\n",
       "      <td>17.0</td>\n",
       "      <td>10.0</td>\n",
       "      <td>15.0</td>\n",
       "      <td>11.0</td>\n",
       "      <td>15.0</td>\n",
       "      <td>0.025575</td>\n",
       "      <td>0.0</td>\n",
       "      <td>0.0</td>\n",
       "      <td>0.0</td>\n",
       "      <td>0.0</td>\n",
       "      <td>2.15</td>\n",
       "      <td>-9.62</td>\n",
       "      <td>0.51</td>\n",
       "      <td>-0.001091</td>\n",
       "      <td>-0.018544</td>\n",
       "      <td>0.007636</td>\n",
       "      <td>-0.12</td>\n",
       "      <td>-9.37</td>\n",
       "      <td>2.67</td>\n",
       "      <td>-0.002182</td>\n",
       "      <td>-0.005454</td>\n",
       "      <td>-0.003272</td>\n",
       "      <td>0.0</td>\n",
       "      <td>0.0</td>\n",
       "    </tr>\n",
       "    <tr>\n",
       "      <th>3</th>\n",
       "      <td>P01</td>\n",
       "      <td>2019-05-07</td>\n",
       "      <td>2minBassin</td>\n",
       "      <td>0.076726</td>\n",
       "      <td>1.0</td>\n",
       "      <td>0.0</td>\n",
       "      <td>0.0</td>\n",
       "      <td>0.0</td>\n",
       "      <td>1.0</td>\n",
       "      <td>0.0</td>\n",
       "      <td>49.0</td>\n",
       "      <td>19.0</td>\n",
       "      <td>18.0</td>\n",
       "      <td>33.0</td>\n",
       "      <td>30.0</td>\n",
       "      <td>34.0</td>\n",
       "      <td>40.0</td>\n",
       "      <td>19.0</td>\n",
       "      <td>62.0</td>\n",
       "      <td>11.0</td>\n",
       "      <td>5.0</td>\n",
       "      <td>7.0</td>\n",
       "      <td>12.0</td>\n",
       "      <td>45.0</td>\n",
       "      <td>31.0</td>\n",
       "      <td>17.0</td>\n",
       "      <td>11.0</td>\n",
       "      <td>15.0</td>\n",
       "      <td>11.0</td>\n",
       "      <td>15.0</td>\n",
       "      <td>0.025575</td>\n",
       "      <td>0.0</td>\n",
       "      <td>0.0</td>\n",
       "      <td>0.0</td>\n",
       "      <td>0.0</td>\n",
       "      <td>2.20</td>\n",
       "      <td>-9.63</td>\n",
       "      <td>0.62</td>\n",
       "      <td>-0.014181</td>\n",
       "      <td>0.011999</td>\n",
       "      <td>-0.003272</td>\n",
       "      <td>-0.13</td>\n",
       "      <td>-9.36</td>\n",
       "      <td>2.67</td>\n",
       "      <td>-0.002182</td>\n",
       "      <td>-0.005454</td>\n",
       "      <td>-0.002182</td>\n",
       "      <td>0.0</td>\n",
       "      <td>0.0</td>\n",
       "    </tr>\n",
       "    <tr>\n",
       "      <th>4</th>\n",
       "      <td>P01</td>\n",
       "      <td>2019-05-07</td>\n",
       "      <td>2minBassin</td>\n",
       "      <td>0.102302</td>\n",
       "      <td>1.0</td>\n",
       "      <td>0.0</td>\n",
       "      <td>0.0</td>\n",
       "      <td>0.0</td>\n",
       "      <td>1.0</td>\n",
       "      <td>0.0</td>\n",
       "      <td>50.0</td>\n",
       "      <td>19.0</td>\n",
       "      <td>18.0</td>\n",
       "      <td>34.0</td>\n",
       "      <td>30.0</td>\n",
       "      <td>34.0</td>\n",
       "      <td>40.0</td>\n",
       "      <td>19.0</td>\n",
       "      <td>63.0</td>\n",
       "      <td>11.0</td>\n",
       "      <td>5.0</td>\n",
       "      <td>7.0</td>\n",
       "      <td>13.0</td>\n",
       "      <td>46.0</td>\n",
       "      <td>31.0</td>\n",
       "      <td>17.0</td>\n",
       "      <td>11.0</td>\n",
       "      <td>15.0</td>\n",
       "      <td>11.0</td>\n",
       "      <td>15.0</td>\n",
       "      <td>0.025575</td>\n",
       "      <td>0.0</td>\n",
       "      <td>0.0</td>\n",
       "      <td>0.0</td>\n",
       "      <td>0.0</td>\n",
       "      <td>2.20</td>\n",
       "      <td>-9.51</td>\n",
       "      <td>0.93</td>\n",
       "      <td>-0.085085</td>\n",
       "      <td>0.078540</td>\n",
       "      <td>-0.041452</td>\n",
       "      <td>-0.11</td>\n",
       "      <td>-9.37</td>\n",
       "      <td>2.64</td>\n",
       "      <td>-0.003272</td>\n",
       "      <td>-0.001091</td>\n",
       "      <td>0.000000</td>\n",
       "      <td>0.0</td>\n",
       "      <td>0.0</td>\n",
       "    </tr>\n",
       "  </tbody>\n",
       "</table>\n",
       "</div>"
      ],
      "text/plain": [
       "  id_pat        date    activity  timeline  Avant_pied_droit_appui  \\\n",
       "0    P01  2019-05-07  2minBassin  0.000000                     1.0   \n",
       "1    P01  2019-05-07  2minBassin  0.025575                     1.0   \n",
       "2    P01  2019-05-07  2minBassin  0.051151                     1.0   \n",
       "3    P01  2019-05-07  2minBassin  0.076726                     1.0   \n",
       "4    P01  2019-05-07  2minBassin  0.102302                     1.0   \n",
       "\n",
       "   Medio_pied_droit_appui  Arriere_pied_droit_appui  Avant_pied_gauche_appui  \\\n",
       "0                     0.0                       0.0                      0.0   \n",
       "1                     0.0                       0.0                      0.0   \n",
       "2                     0.0                       0.0                      0.0   \n",
       "3                     0.0                       0.0                      0.0   \n",
       "4                     0.0                       0.0                      0.0   \n",
       "\n",
       "   Medio_pied_gauche_appui  Arriere_pied_gauche_appui  Semelle_Droite_Capt_1  \\\n",
       "0                      1.0                        0.0                   49.0   \n",
       "1                      1.0                        0.0                   49.0   \n",
       "2                      1.0                        0.0                   50.0   \n",
       "3                      1.0                        0.0                   49.0   \n",
       "4                      1.0                        0.0                   50.0   \n",
       "\n",
       "   Semelle_Droite_Capt_2  Semelle_Droite_Capt_3  Semelle_Droite_Capt_4  \\\n",
       "0                   19.0                   18.0                   34.0   \n",
       "1                   19.0                   18.0                   34.0   \n",
       "2                   19.0                   18.0                   34.0   \n",
       "3                   19.0                   18.0                   33.0   \n",
       "4                   19.0                   18.0                   34.0   \n",
       "\n",
       "   Semelle_Droite_Capt_5  Semelle_Droite_Capt_6  Semelle_Droite_Capt_7  \\\n",
       "0                   30.0                   34.0                   40.0   \n",
       "1                   30.0                   34.0                   40.0   \n",
       "2                   30.0                   34.0                   40.0   \n",
       "3                   30.0                   34.0                   40.0   \n",
       "4                   30.0                   34.0                   40.0   \n",
       "\n",
       "   Semelle_Droite_Capt_8  Semelle_Droite_Capt_9  Semelle_Droite_Capt_10  \\\n",
       "0                   19.0                   63.0                    11.0   \n",
       "1                   19.0                   62.0                    11.0   \n",
       "2                   19.0                   62.0                    11.0   \n",
       "3                   19.0                   62.0                    11.0   \n",
       "4                   19.0                   63.0                    11.0   \n",
       "\n",
       "   Semelle_Gauche_Capt_1  Semelle_Gauche_Capt_2  Semelle_Gauche_Capt_3  \\\n",
       "0                    5.0                    7.0                   12.0   \n",
       "1                    5.0                    7.0                   12.0   \n",
       "2                    5.0                    7.0                   12.0   \n",
       "3                    5.0                    7.0                   12.0   \n",
       "4                    5.0                    7.0                   13.0   \n",
       "\n",
       "   Semelle_Gauche_Capt_4  Semelle_Gauche_Capt_5  Semelle_Gauche_Capt_6  \\\n",
       "0                   45.0                   30.0                   17.0   \n",
       "1                   45.0                   30.0                   17.0   \n",
       "2                   45.0                   30.0                   17.0   \n",
       "3                   45.0                   31.0                   17.0   \n",
       "4                   46.0                   31.0                   17.0   \n",
       "\n",
       "   Semelle_Gauche_Capt_7  Semelle_Gauche_Capt_8  Semelle_Gauche_Capt_9  \\\n",
       "0                   11.0                   15.0                   11.0   \n",
       "1                   10.0                   15.0                   11.0   \n",
       "2                   10.0                   15.0                   11.0   \n",
       "3                   11.0                   15.0                   11.0   \n",
       "4                   11.0                   15.0                   11.0   \n",
       "\n",
       "   Semelle_Gauche_Capt_10        Te  CI_Droit_qui_se_leve  \\\n",
       "0                    15.0  0.025575                   0.0   \n",
       "1                    15.0  0.025575                   0.0   \n",
       "2                    15.0  0.025575                   0.0   \n",
       "3                    15.0  0.025575                   0.0   \n",
       "4                    15.0  0.025575                   0.0   \n",
       "\n",
       "   CI_Droit_qui_se_pose  CI_Gauche_qui_se_leve  CI_Gauche_qui_se_pose  \\\n",
       "0                   0.0                    0.0                    0.0   \n",
       "1                   0.0                    0.0                    0.0   \n",
       "2                   0.0                    0.0                    0.0   \n",
       "3                   0.0                    0.0                    0.0   \n",
       "4                   0.0                    0.0                    0.0   \n",
       "\n",
       "   Acc_x_G  Acc_y_G  Acc_z_G  Gyro_x_G  Gyro_y_G  Gyro_z_G  Acc_x_D  Acc_y_D  \\\n",
       "0     2.50    -9.38     0.25 -0.025089 -0.001091  0.021817    -0.12    -9.38   \n",
       "1     2.43    -9.51     0.34 -0.013090 -0.021817  0.005454    -0.15    -9.37   \n",
       "2     2.15    -9.62     0.51 -0.001091 -0.018544  0.007636    -0.12    -9.37   \n",
       "3     2.20    -9.63     0.62 -0.014181  0.011999 -0.003272    -0.13    -9.36   \n",
       "4     2.20    -9.51     0.93 -0.085085  0.078540 -0.041452    -0.11    -9.37   \n",
       "\n",
       "   Acc_z_D  Gyro_x_D  Gyro_y_D  Gyro_z_D  appui_leve_droit  appui_leve_gauche  \n",
       "0     2.67 -0.002182 -0.005454 -0.001091               0.0                0.0  \n",
       "1     2.66 -0.001091 -0.001091 -0.004363               0.0                0.0  \n",
       "2     2.67 -0.002182 -0.005454 -0.003272               0.0                0.0  \n",
       "3     2.67 -0.002182 -0.005454 -0.002182               0.0                0.0  \n",
       "4     2.64 -0.003272 -0.001091  0.000000               0.0                0.0  "
      ]
     },
     "execution_count": 41,
     "metadata": {},
     "output_type": "execute_result"
    }
   ],
   "source": [
    "df.head()"
   ]
  },
  {
   "cell_type": "code",
   "execution_count": 42,
   "metadata": {
    "ExecuteTime": {
     "end_time": "2021-03-05T09:18:45.290806Z",
     "start_time": "2021-03-05T09:18:45.246801Z"
    }
   },
   "outputs": [],
   "source": [
    "df.appui_leve_droit = np.maximum(df.appui_leve_droit, 0)\n",
    "df.appui_leve_gauche = np.maximum(df.appui_leve_gauche, 0)"
   ]
  },
  {
   "cell_type": "code",
   "execution_count": 43,
   "metadata": {
    "ExecuteTime": {
     "end_time": "2021-03-05T09:18:45.321807Z",
     "start_time": "2021-03-05T09:18:45.294800Z"
    }
   },
   "outputs": [
    {
     "data": {
      "text/plain": [
       "Index(['id_pat', 'date', 'activity', 'timeline', 'Avant_pied_droit_appui',\n",
       "       'Medio_pied_droit_appui', 'Arriere_pied_droit_appui',\n",
       "       'Avant_pied_gauche_appui', 'Medio_pied_gauche_appui',\n",
       "       'Arriere_pied_gauche_appui', 'Semelle_Droite_Capt_1',\n",
       "       'Semelle_Droite_Capt_2', 'Semelle_Droite_Capt_3',\n",
       "       'Semelle_Droite_Capt_4', 'Semelle_Droite_Capt_5',\n",
       "       'Semelle_Droite_Capt_6', 'Semelle_Droite_Capt_7',\n",
       "       'Semelle_Droite_Capt_8', 'Semelle_Droite_Capt_9',\n",
       "       'Semelle_Droite_Capt_10', 'Semelle_Gauche_Capt_1',\n",
       "       'Semelle_Gauche_Capt_2', 'Semelle_Gauche_Capt_3',\n",
       "       'Semelle_Gauche_Capt_4', 'Semelle_Gauche_Capt_5',\n",
       "       'Semelle_Gauche_Capt_6', 'Semelle_Gauche_Capt_7',\n",
       "       'Semelle_Gauche_Capt_8', 'Semelle_Gauche_Capt_9',\n",
       "       'Semelle_Gauche_Capt_10', 'Te', 'CI_Droit_qui_se_leve',\n",
       "       'CI_Droit_qui_se_pose', 'CI_Gauche_qui_se_leve',\n",
       "       'CI_Gauche_qui_se_pose', 'Acc_x_G', 'Acc_y_G', 'Acc_z_G', 'Gyro_x_G',\n",
       "       'Gyro_y_G', 'Gyro_z_G', 'Acc_x_D', 'Acc_y_D', 'Acc_z_D', 'Gyro_x_D',\n",
       "       'Gyro_y_D', 'Gyro_z_D', 'appui_leve_droit', 'appui_leve_gauche'],\n",
       "      dtype='object')"
      ]
     },
     "execution_count": 43,
     "metadata": {},
     "output_type": "execute_result"
    }
   ],
   "source": [
    "df.columns"
   ]
  },
  {
   "cell_type": "code",
   "execution_count": 44,
   "metadata": {
    "ExecuteTime": {
     "end_time": "2021-03-05T09:18:47.004795Z",
     "start_time": "2021-03-05T09:18:45.323800Z"
    }
   },
   "outputs": [
    {
     "data": {
      "text/html": [
       "<div>\n",
       "<style scoped>\n",
       "    .dataframe tbody tr th:only-of-type {\n",
       "        vertical-align: middle;\n",
       "    }\n",
       "\n",
       "    .dataframe tbody tr th {\n",
       "        vertical-align: top;\n",
       "    }\n",
       "\n",
       "    .dataframe thead th {\n",
       "        text-align: right;\n",
       "    }\n",
       "</style>\n",
       "<table border=\"1\" class=\"dataframe\">\n",
       "  <thead>\n",
       "    <tr style=\"text-align: right;\">\n",
       "      <th></th>\n",
       "      <th>timeline</th>\n",
       "      <th>Avant_pied_droit_appui</th>\n",
       "      <th>Medio_pied_droit_appui</th>\n",
       "      <th>Arriere_pied_droit_appui</th>\n",
       "      <th>Avant_pied_gauche_appui</th>\n",
       "      <th>Medio_pied_gauche_appui</th>\n",
       "      <th>Arriere_pied_gauche_appui</th>\n",
       "      <th>Semelle_Droite_Capt_1</th>\n",
       "      <th>Semelle_Droite_Capt_2</th>\n",
       "      <th>Semelle_Droite_Capt_3</th>\n",
       "      <th>Semelle_Droite_Capt_4</th>\n",
       "      <th>Semelle_Droite_Capt_5</th>\n",
       "      <th>Semelle_Droite_Capt_6</th>\n",
       "      <th>Semelle_Droite_Capt_7</th>\n",
       "      <th>Semelle_Droite_Capt_8</th>\n",
       "      <th>Semelle_Droite_Capt_9</th>\n",
       "      <th>Semelle_Droite_Capt_10</th>\n",
       "      <th>Semelle_Gauche_Capt_1</th>\n",
       "      <th>Semelle_Gauche_Capt_2</th>\n",
       "      <th>Semelle_Gauche_Capt_3</th>\n",
       "      <th>Semelle_Gauche_Capt_4</th>\n",
       "      <th>Semelle_Gauche_Capt_5</th>\n",
       "      <th>Semelle_Gauche_Capt_6</th>\n",
       "      <th>Semelle_Gauche_Capt_7</th>\n",
       "      <th>Semelle_Gauche_Capt_8</th>\n",
       "      <th>Semelle_Gauche_Capt_9</th>\n",
       "      <th>Semelle_Gauche_Capt_10</th>\n",
       "      <th>Te</th>\n",
       "      <th>CI_Droit_qui_se_leve</th>\n",
       "      <th>CI_Droit_qui_se_pose</th>\n",
       "      <th>CI_Gauche_qui_se_leve</th>\n",
       "      <th>CI_Gauche_qui_se_pose</th>\n",
       "      <th>Acc_x_G</th>\n",
       "      <th>Acc_y_G</th>\n",
       "      <th>Acc_z_G</th>\n",
       "      <th>Gyro_x_G</th>\n",
       "      <th>Gyro_y_G</th>\n",
       "      <th>Gyro_z_G</th>\n",
       "      <th>Acc_x_D</th>\n",
       "      <th>Acc_y_D</th>\n",
       "      <th>Acc_z_D</th>\n",
       "      <th>Gyro_x_D</th>\n",
       "      <th>Gyro_y_D</th>\n",
       "      <th>Gyro_z_D</th>\n",
       "      <th>appui_leve_droit</th>\n",
       "      <th>appui_leve_gauche</th>\n",
       "    </tr>\n",
       "  </thead>\n",
       "  <tbody>\n",
       "    <tr>\n",
       "      <th>count</th>\n",
       "      <td>1.109582e+06</td>\n",
       "      <td>1.109582e+06</td>\n",
       "      <td>1.109582e+06</td>\n",
       "      <td>1.109582e+06</td>\n",
       "      <td>1.109582e+06</td>\n",
       "      <td>1.109582e+06</td>\n",
       "      <td>1.109582e+06</td>\n",
       "      <td>1.109582e+06</td>\n",
       "      <td>1.109582e+06</td>\n",
       "      <td>1.109582e+06</td>\n",
       "      <td>1.109582e+06</td>\n",
       "      <td>1.109582e+06</td>\n",
       "      <td>1.109582e+06</td>\n",
       "      <td>1.109582e+06</td>\n",
       "      <td>1.109582e+06</td>\n",
       "      <td>1.109582e+06</td>\n",
       "      <td>1.109582e+06</td>\n",
       "      <td>1.109582e+06</td>\n",
       "      <td>1.109582e+06</td>\n",
       "      <td>1.109582e+06</td>\n",
       "      <td>1.109582e+06</td>\n",
       "      <td>1.109582e+06</td>\n",
       "      <td>1.109582e+06</td>\n",
       "      <td>1.109582e+06</td>\n",
       "      <td>1.109582e+06</td>\n",
       "      <td>1.109582e+06</td>\n",
       "      <td>1.109582e+06</td>\n",
       "      <td>1.109582e+06</td>\n",
       "      <td>1.109582e+06</td>\n",
       "      <td>1.109582e+06</td>\n",
       "      <td>1.109582e+06</td>\n",
       "      <td>1.109582e+06</td>\n",
       "      <td>1.109582e+06</td>\n",
       "      <td>1.109582e+06</td>\n",
       "      <td>1.109582e+06</td>\n",
       "      <td>1.109582e+06</td>\n",
       "      <td>1.109582e+06</td>\n",
       "      <td>1.109582e+06</td>\n",
       "      <td>1.109582e+06</td>\n",
       "      <td>1.109582e+06</td>\n",
       "      <td>1.109582e+06</td>\n",
       "      <td>1.109582e+06</td>\n",
       "      <td>1.109582e+06</td>\n",
       "      <td>1.109582e+06</td>\n",
       "      <td>1.109582e+06</td>\n",
       "      <td>1.109582e+06</td>\n",
       "    </tr>\n",
       "    <tr>\n",
       "      <th>mean</th>\n",
       "      <td>2.718283e+02</td>\n",
       "      <td>6.917596e-01</td>\n",
       "      <td>6.303761e-01</td>\n",
       "      <td>7.130018e-01</td>\n",
       "      <td>7.567363e-01</td>\n",
       "      <td>7.318621e-01</td>\n",
       "      <td>7.438495e-01</td>\n",
       "      <td>6.941738e+01</td>\n",
       "      <td>6.207362e+01</td>\n",
       "      <td>3.362850e+01</td>\n",
       "      <td>4.388716e+01</td>\n",
       "      <td>4.678450e+01</td>\n",
       "      <td>4.504796e+01</td>\n",
       "      <td>3.343096e+01</td>\n",
       "      <td>3.156200e+01</td>\n",
       "      <td>4.026136e+01</td>\n",
       "      <td>1.008734e+01</td>\n",
       "      <td>5.533193e+01</td>\n",
       "      <td>5.498642e+01</td>\n",
       "      <td>3.277744e+01</td>\n",
       "      <td>3.154978e+01</td>\n",
       "      <td>3.045270e+01</td>\n",
       "      <td>4.670277e+01</td>\n",
       "      <td>2.045648e+01</td>\n",
       "      <td>3.204089e+01</td>\n",
       "      <td>4.129297e+01</td>\n",
       "      <td>1.286547e+01</td>\n",
       "      <td>2.543692e-02</td>\n",
       "      <td>7.927310e-03</td>\n",
       "      <td>7.927310e-03</td>\n",
       "      <td>8.025545e-03</td>\n",
       "      <td>8.025545e-03</td>\n",
       "      <td>8.085520e-01</td>\n",
       "      <td>-9.366844e+00</td>\n",
       "      <td>1.229753e+00</td>\n",
       "      <td>1.059887e-02</td>\n",
       "      <td>-2.570948e-02</td>\n",
       "      <td>-2.631811e-02</td>\n",
       "      <td>-1.344243e-01</td>\n",
       "      <td>-9.311731e+00</td>\n",
       "      <td>1.517600e+00</td>\n",
       "      <td>1.183736e-02</td>\n",
       "      <td>1.014876e-02</td>\n",
       "      <td>2.466131e-02</td>\n",
       "      <td>2.732552e-01</td>\n",
       "      <td>2.779290e-01</td>\n",
       "    </tr>\n",
       "    <tr>\n",
       "      <th>std</th>\n",
       "      <td>3.855660e+02</td>\n",
       "      <td>4.617667e-01</td>\n",
       "      <td>4.827031e-01</td>\n",
       "      <td>4.523609e-01</td>\n",
       "      <td>4.290532e-01</td>\n",
       "      <td>4.429900e-01</td>\n",
       "      <td>4.365061e-01</td>\n",
       "      <td>6.332887e+01</td>\n",
       "      <td>6.012315e+01</td>\n",
       "      <td>4.563852e+01</td>\n",
       "      <td>4.414019e+01</td>\n",
       "      <td>4.293728e+01</td>\n",
       "      <td>4.801571e+01</td>\n",
       "      <td>4.165931e+01</td>\n",
       "      <td>3.902141e+01</td>\n",
       "      <td>4.440623e+01</td>\n",
       "      <td>1.604869e+01</td>\n",
       "      <td>5.511796e+01</td>\n",
       "      <td>5.396543e+01</td>\n",
       "      <td>3.927934e+01</td>\n",
       "      <td>3.887558e+01</td>\n",
       "      <td>3.495952e+01</td>\n",
       "      <td>5.242515e+01</td>\n",
       "      <td>3.217900e+01</td>\n",
       "      <td>4.385812e+01</td>\n",
       "      <td>4.964504e+01</td>\n",
       "      <td>2.142978e+01</td>\n",
       "      <td>9.304270e-05</td>\n",
       "      <td>8.868187e-02</td>\n",
       "      <td>8.868187e-02</td>\n",
       "      <td>8.922524e-02</td>\n",
       "      <td>8.922524e-02</td>\n",
       "      <td>4.378746e+00</td>\n",
       "      <td>3.283438e+00</td>\n",
       "      <td>4.330789e+00</td>\n",
       "      <td>1.419479e+00</td>\n",
       "      <td>9.375573e-01</td>\n",
       "      <td>8.483254e-01</td>\n",
       "      <td>4.472912e+00</td>\n",
       "      <td>3.894301e+00</td>\n",
       "      <td>3.884345e+00</td>\n",
       "      <td>1.298897e+00</td>\n",
       "      <td>9.374022e-01</td>\n",
       "      <td>8.278960e-01</td>\n",
       "      <td>4.456310e-01</td>\n",
       "      <td>4.479784e-01</td>\n",
       "    </tr>\n",
       "    <tr>\n",
       "      <th>min</th>\n",
       "      <td>0.000000e+00</td>\n",
       "      <td>0.000000e+00</td>\n",
       "      <td>0.000000e+00</td>\n",
       "      <td>0.000000e+00</td>\n",
       "      <td>0.000000e+00</td>\n",
       "      <td>0.000000e+00</td>\n",
       "      <td>0.000000e+00</td>\n",
       "      <td>0.000000e+00</td>\n",
       "      <td>0.000000e+00</td>\n",
       "      <td>0.000000e+00</td>\n",
       "      <td>0.000000e+00</td>\n",
       "      <td>0.000000e+00</td>\n",
       "      <td>0.000000e+00</td>\n",
       "      <td>0.000000e+00</td>\n",
       "      <td>0.000000e+00</td>\n",
       "      <td>0.000000e+00</td>\n",
       "      <td>0.000000e+00</td>\n",
       "      <td>0.000000e+00</td>\n",
       "      <td>0.000000e+00</td>\n",
       "      <td>0.000000e+00</td>\n",
       "      <td>0.000000e+00</td>\n",
       "      <td>0.000000e+00</td>\n",
       "      <td>0.000000e+00</td>\n",
       "      <td>0.000000e+00</td>\n",
       "      <td>0.000000e+00</td>\n",
       "      <td>0.000000e+00</td>\n",
       "      <td>0.000000e+00</td>\n",
       "      <td>2.531646e-02</td>\n",
       "      <td>0.000000e+00</td>\n",
       "      <td>0.000000e+00</td>\n",
       "      <td>0.000000e+00</td>\n",
       "      <td>0.000000e+00</td>\n",
       "      <td>-3.934000e+01</td>\n",
       "      <td>-3.983000e+01</td>\n",
       "      <td>-2.687900e+02</td>\n",
       "      <td>-1.793108e+01</td>\n",
       "      <td>-3.541928e+01</td>\n",
       "      <td>-3.506257e+01</td>\n",
       "      <td>-3.935000e+01</td>\n",
       "      <td>-3.135400e+02</td>\n",
       "      <td>-3.225500e+02</td>\n",
       "      <td>-1.062469e+01</td>\n",
       "      <td>-3.514002e+01</td>\n",
       "      <td>-3.506366e+01</td>\n",
       "      <td>0.000000e+00</td>\n",
       "      <td>0.000000e+00</td>\n",
       "    </tr>\n",
       "    <tr>\n",
       "      <th>25%</th>\n",
       "      <td>4.018594e+01</td>\n",
       "      <td>0.000000e+00</td>\n",
       "      <td>0.000000e+00</td>\n",
       "      <td>0.000000e+00</td>\n",
       "      <td>1.000000e+00</td>\n",
       "      <td>0.000000e+00</td>\n",
       "      <td>0.000000e+00</td>\n",
       "      <td>8.000000e+00</td>\n",
       "      <td>7.000000e+00</td>\n",
       "      <td>4.000000e+00</td>\n",
       "      <td>6.000000e+00</td>\n",
       "      <td>1.000000e+01</td>\n",
       "      <td>6.000000e+00</td>\n",
       "      <td>3.000000e+00</td>\n",
       "      <td>4.000000e+00</td>\n",
       "      <td>3.000000e+00</td>\n",
       "      <td>0.000000e+00</td>\n",
       "      <td>6.000000e+00</td>\n",
       "      <td>6.000000e+00</td>\n",
       "      <td>2.000000e+00</td>\n",
       "      <td>3.000000e+00</td>\n",
       "      <td>3.000000e+00</td>\n",
       "      <td>3.000000e+00</td>\n",
       "      <td>2.000000e+00</td>\n",
       "      <td>3.000000e+00</td>\n",
       "      <td>2.000000e+00</td>\n",
       "      <td>0.000000e+00</td>\n",
       "      <td>2.538071e-02</td>\n",
       "      <td>0.000000e+00</td>\n",
       "      <td>0.000000e+00</td>\n",
       "      <td>0.000000e+00</td>\n",
       "      <td>0.000000e+00</td>\n",
       "      <td>-1.320000e+00</td>\n",
       "      <td>-9.670000e+00</td>\n",
       "      <td>-1.000000e-01</td>\n",
       "      <td>-2.378011e-01</td>\n",
       "      <td>-8.944812e-02</td>\n",
       "      <td>-6.763151e-02</td>\n",
       "      <td>-2.560000e+00</td>\n",
       "      <td>-9.650000e+00</td>\n",
       "      <td>6.200000e-01</td>\n",
       "      <td>-1.668971e-01</td>\n",
       "      <td>-2.836160e-02</td>\n",
       "      <td>-2.508911e-02</td>\n",
       "      <td>0.000000e+00</td>\n",
       "      <td>0.000000e+00</td>\n",
       "    </tr>\n",
       "    <tr>\n",
       "      <th>50%</th>\n",
       "      <td>1.224112e+02</td>\n",
       "      <td>1.000000e+00</td>\n",
       "      <td>1.000000e+00</td>\n",
       "      <td>1.000000e+00</td>\n",
       "      <td>1.000000e+00</td>\n",
       "      <td>1.000000e+00</td>\n",
       "      <td>1.000000e+00</td>\n",
       "      <td>5.300000e+01</td>\n",
       "      <td>4.000000e+01</td>\n",
       "      <td>1.400000e+01</td>\n",
       "      <td>2.900000e+01</td>\n",
       "      <td>3.400000e+01</td>\n",
       "      <td>2.700000e+01</td>\n",
       "      <td>1.600000e+01</td>\n",
       "      <td>1.400000e+01</td>\n",
       "      <td>2.500000e+01</td>\n",
       "      <td>4.000000e+00</td>\n",
       "      <td>3.500000e+01</td>\n",
       "      <td>3.800000e+01</td>\n",
       "      <td>1.700000e+01</td>\n",
       "      <td>1.700000e+01</td>\n",
       "      <td>1.700000e+01</td>\n",
       "      <td>2.400000e+01</td>\n",
       "      <td>7.000000e+00</td>\n",
       "      <td>1.200000e+01</td>\n",
       "      <td>2.000000e+01</td>\n",
       "      <td>2.000000e+00</td>\n",
       "      <td>2.538071e-02</td>\n",
       "      <td>0.000000e+00</td>\n",
       "      <td>0.000000e+00</td>\n",
       "      <td>0.000000e+00</td>\n",
       "      <td>0.000000e+00</td>\n",
       "      <td>7.200000e-01</td>\n",
       "      <td>-9.320000e+00</td>\n",
       "      <td>1.800000e+00</td>\n",
       "      <td>-5.454154e-03</td>\n",
       "      <td>-1.090831e-03</td>\n",
       "      <td>-1.090831e-03</td>\n",
       "      <td>-2.500000e-01</td>\n",
       "      <td>-9.170000e+00</td>\n",
       "      <td>1.830000e+00</td>\n",
       "      <td>-3.272492e-03</td>\n",
       "      <td>1.090831e-03</td>\n",
       "      <td>2.181662e-03</td>\n",
       "      <td>0.000000e+00</td>\n",
       "      <td>0.000000e+00</td>\n",
       "    </tr>\n",
       "    <tr>\n",
       "      <th>75%</th>\n",
       "      <td>3.205598e+02</td>\n",
       "      <td>1.000000e+00</td>\n",
       "      <td>1.000000e+00</td>\n",
       "      <td>1.000000e+00</td>\n",
       "      <td>1.000000e+00</td>\n",
       "      <td>1.000000e+00</td>\n",
       "      <td>1.000000e+00</td>\n",
       "      <td>1.270000e+02</td>\n",
       "      <td>1.160000e+02</td>\n",
       "      <td>4.200000e+01</td>\n",
       "      <td>7.800000e+01</td>\n",
       "      <td>7.400000e+01</td>\n",
       "      <td>7.000000e+01</td>\n",
       "      <td>4.900000e+01</td>\n",
       "      <td>4.500000e+01</td>\n",
       "      <td>6.300000e+01</td>\n",
       "      <td>1.300000e+01</td>\n",
       "      <td>9.800000e+01</td>\n",
       "      <td>9.700000e+01</td>\n",
       "      <td>5.200000e+01</td>\n",
       "      <td>4.300000e+01</td>\n",
       "      <td>4.800000e+01</td>\n",
       "      <td>8.000000e+01</td>\n",
       "      <td>2.600000e+01</td>\n",
       "      <td>4.000000e+01</td>\n",
       "      <td>6.500000e+01</td>\n",
       "      <td>1.600000e+01</td>\n",
       "      <td>2.544529e-02</td>\n",
       "      <td>0.000000e+00</td>\n",
       "      <td>0.000000e+00</td>\n",
       "      <td>0.000000e+00</td>\n",
       "      <td>0.000000e+00</td>\n",
       "      <td>2.940000e+00</td>\n",
       "      <td>-8.610000e+00</td>\n",
       "      <td>2.850000e+00</td>\n",
       "      <td>1.636246e-02</td>\n",
       "      <td>3.599742e-02</td>\n",
       "      <td>3.163409e-02</td>\n",
       "      <td>2.710000e+00</td>\n",
       "      <td>-8.440000e+00</td>\n",
       "      <td>2.750000e+00</td>\n",
       "      <td>2.181662e-02</td>\n",
       "      <td>7.199483e-02</td>\n",
       "      <td>7.526732e-02</td>\n",
       "      <td>1.000000e+00</td>\n",
       "      <td>1.000000e+00</td>\n",
       "    </tr>\n",
       "    <tr>\n",
       "      <th>max</th>\n",
       "      <td>2.203325e+03</td>\n",
       "      <td>1.000000e+00</td>\n",
       "      <td>1.000000e+00</td>\n",
       "      <td>1.000000e+00</td>\n",
       "      <td>1.000000e+00</td>\n",
       "      <td>1.000000e+00</td>\n",
       "      <td>1.000000e+00</td>\n",
       "      <td>2.550000e+02</td>\n",
       "      <td>2.550000e+02</td>\n",
       "      <td>2.550000e+02</td>\n",
       "      <td>2.550000e+02</td>\n",
       "      <td>2.550000e+02</td>\n",
       "      <td>2.550000e+02</td>\n",
       "      <td>2.550000e+02</td>\n",
       "      <td>2.550000e+02</td>\n",
       "      <td>2.550000e+02</td>\n",
       "      <td>2.550000e+02</td>\n",
       "      <td>2.550000e+02</td>\n",
       "      <td>2.550000e+02</td>\n",
       "      <td>2.550000e+02</td>\n",
       "      <td>2.550000e+02</td>\n",
       "      <td>2.550000e+02</td>\n",
       "      <td>2.550000e+02</td>\n",
       "      <td>2.550000e+02</td>\n",
       "      <td>2.550000e+02</td>\n",
       "      <td>2.550000e+02</td>\n",
       "      <td>2.550000e+02</td>\n",
       "      <td>2.577320e-02</td>\n",
       "      <td>1.000000e+00</td>\n",
       "      <td>1.000000e+00</td>\n",
       "      <td>1.000000e+00</td>\n",
       "      <td>1.000000e+00</td>\n",
       "      <td>3.956000e+01</td>\n",
       "      <td>3.934000e+01</td>\n",
       "      <td>2.073700e+02</td>\n",
       "      <td>1.177988e+01</td>\n",
       "      <td>3.188062e+01</td>\n",
       "      <td>3.203006e+01</td>\n",
       "      <td>3.964000e+01</td>\n",
       "      <td>3.811000e+01</td>\n",
       "      <td>2.892900e+02</td>\n",
       "      <td>2.036581e+01</td>\n",
       "      <td>3.495240e+01</td>\n",
       "      <td>3.384848e+01</td>\n",
       "      <td>1.000000e+00</td>\n",
       "      <td>1.000000e+00</td>\n",
       "    </tr>\n",
       "  </tbody>\n",
       "</table>\n",
       "</div>"
      ],
      "text/plain": [
       "           timeline  Avant_pied_droit_appui  Medio_pied_droit_appui  \\\n",
       "count  1.109582e+06            1.109582e+06            1.109582e+06   \n",
       "mean   2.718283e+02            6.917596e-01            6.303761e-01   \n",
       "std    3.855660e+02            4.617667e-01            4.827031e-01   \n",
       "min    0.000000e+00            0.000000e+00            0.000000e+00   \n",
       "25%    4.018594e+01            0.000000e+00            0.000000e+00   \n",
       "50%    1.224112e+02            1.000000e+00            1.000000e+00   \n",
       "75%    3.205598e+02            1.000000e+00            1.000000e+00   \n",
       "max    2.203325e+03            1.000000e+00            1.000000e+00   \n",
       "\n",
       "       Arriere_pied_droit_appui  Avant_pied_gauche_appui  \\\n",
       "count              1.109582e+06             1.109582e+06   \n",
       "mean               7.130018e-01             7.567363e-01   \n",
       "std                4.523609e-01             4.290532e-01   \n",
       "min                0.000000e+00             0.000000e+00   \n",
       "25%                0.000000e+00             1.000000e+00   \n",
       "50%                1.000000e+00             1.000000e+00   \n",
       "75%                1.000000e+00             1.000000e+00   \n",
       "max                1.000000e+00             1.000000e+00   \n",
       "\n",
       "       Medio_pied_gauche_appui  Arriere_pied_gauche_appui  \\\n",
       "count             1.109582e+06               1.109582e+06   \n",
       "mean              7.318621e-01               7.438495e-01   \n",
       "std               4.429900e-01               4.365061e-01   \n",
       "min               0.000000e+00               0.000000e+00   \n",
       "25%               0.000000e+00               0.000000e+00   \n",
       "50%               1.000000e+00               1.000000e+00   \n",
       "75%               1.000000e+00               1.000000e+00   \n",
       "max               1.000000e+00               1.000000e+00   \n",
       "\n",
       "       Semelle_Droite_Capt_1  Semelle_Droite_Capt_2  Semelle_Droite_Capt_3  \\\n",
       "count           1.109582e+06           1.109582e+06           1.109582e+06   \n",
       "mean            6.941738e+01           6.207362e+01           3.362850e+01   \n",
       "std             6.332887e+01           6.012315e+01           4.563852e+01   \n",
       "min             0.000000e+00           0.000000e+00           0.000000e+00   \n",
       "25%             8.000000e+00           7.000000e+00           4.000000e+00   \n",
       "50%             5.300000e+01           4.000000e+01           1.400000e+01   \n",
       "75%             1.270000e+02           1.160000e+02           4.200000e+01   \n",
       "max             2.550000e+02           2.550000e+02           2.550000e+02   \n",
       "\n",
       "       Semelle_Droite_Capt_4  Semelle_Droite_Capt_5  Semelle_Droite_Capt_6  \\\n",
       "count           1.109582e+06           1.109582e+06           1.109582e+06   \n",
       "mean            4.388716e+01           4.678450e+01           4.504796e+01   \n",
       "std             4.414019e+01           4.293728e+01           4.801571e+01   \n",
       "min             0.000000e+00           0.000000e+00           0.000000e+00   \n",
       "25%             6.000000e+00           1.000000e+01           6.000000e+00   \n",
       "50%             2.900000e+01           3.400000e+01           2.700000e+01   \n",
       "75%             7.800000e+01           7.400000e+01           7.000000e+01   \n",
       "max             2.550000e+02           2.550000e+02           2.550000e+02   \n",
       "\n",
       "       Semelle_Droite_Capt_7  Semelle_Droite_Capt_8  Semelle_Droite_Capt_9  \\\n",
       "count           1.109582e+06           1.109582e+06           1.109582e+06   \n",
       "mean            3.343096e+01           3.156200e+01           4.026136e+01   \n",
       "std             4.165931e+01           3.902141e+01           4.440623e+01   \n",
       "min             0.000000e+00           0.000000e+00           0.000000e+00   \n",
       "25%             3.000000e+00           4.000000e+00           3.000000e+00   \n",
       "50%             1.600000e+01           1.400000e+01           2.500000e+01   \n",
       "75%             4.900000e+01           4.500000e+01           6.300000e+01   \n",
       "max             2.550000e+02           2.550000e+02           2.550000e+02   \n",
       "\n",
       "       Semelle_Droite_Capt_10  Semelle_Gauche_Capt_1  Semelle_Gauche_Capt_2  \\\n",
       "count            1.109582e+06           1.109582e+06           1.109582e+06   \n",
       "mean             1.008734e+01           5.533193e+01           5.498642e+01   \n",
       "std              1.604869e+01           5.511796e+01           5.396543e+01   \n",
       "min              0.000000e+00           0.000000e+00           0.000000e+00   \n",
       "25%              0.000000e+00           6.000000e+00           6.000000e+00   \n",
       "50%              4.000000e+00           3.500000e+01           3.800000e+01   \n",
       "75%              1.300000e+01           9.800000e+01           9.700000e+01   \n",
       "max              2.550000e+02           2.550000e+02           2.550000e+02   \n",
       "\n",
       "       Semelle_Gauche_Capt_3  Semelle_Gauche_Capt_4  Semelle_Gauche_Capt_5  \\\n",
       "count           1.109582e+06           1.109582e+06           1.109582e+06   \n",
       "mean            3.277744e+01           3.154978e+01           3.045270e+01   \n",
       "std             3.927934e+01           3.887558e+01           3.495952e+01   \n",
       "min             0.000000e+00           0.000000e+00           0.000000e+00   \n",
       "25%             2.000000e+00           3.000000e+00           3.000000e+00   \n",
       "50%             1.700000e+01           1.700000e+01           1.700000e+01   \n",
       "75%             5.200000e+01           4.300000e+01           4.800000e+01   \n",
       "max             2.550000e+02           2.550000e+02           2.550000e+02   \n",
       "\n",
       "       Semelle_Gauche_Capt_6  Semelle_Gauche_Capt_7  Semelle_Gauche_Capt_8  \\\n",
       "count           1.109582e+06           1.109582e+06           1.109582e+06   \n",
       "mean            4.670277e+01           2.045648e+01           3.204089e+01   \n",
       "std             5.242515e+01           3.217900e+01           4.385812e+01   \n",
       "min             0.000000e+00           0.000000e+00           0.000000e+00   \n",
       "25%             3.000000e+00           2.000000e+00           3.000000e+00   \n",
       "50%             2.400000e+01           7.000000e+00           1.200000e+01   \n",
       "75%             8.000000e+01           2.600000e+01           4.000000e+01   \n",
       "max             2.550000e+02           2.550000e+02           2.550000e+02   \n",
       "\n",
       "       Semelle_Gauche_Capt_9  Semelle_Gauche_Capt_10            Te  \\\n",
       "count           1.109582e+06            1.109582e+06  1.109582e+06   \n",
       "mean            4.129297e+01            1.286547e+01  2.543692e-02   \n",
       "std             4.964504e+01            2.142978e+01  9.304270e-05   \n",
       "min             0.000000e+00            0.000000e+00  2.531646e-02   \n",
       "25%             2.000000e+00            0.000000e+00  2.538071e-02   \n",
       "50%             2.000000e+01            2.000000e+00  2.538071e-02   \n",
       "75%             6.500000e+01            1.600000e+01  2.544529e-02   \n",
       "max             2.550000e+02            2.550000e+02  2.577320e-02   \n",
       "\n",
       "       CI_Droit_qui_se_leve  CI_Droit_qui_se_pose  CI_Gauche_qui_se_leve  \\\n",
       "count          1.109582e+06          1.109582e+06           1.109582e+06   \n",
       "mean           7.927310e-03          7.927310e-03           8.025545e-03   \n",
       "std            8.868187e-02          8.868187e-02           8.922524e-02   \n",
       "min            0.000000e+00          0.000000e+00           0.000000e+00   \n",
       "25%            0.000000e+00          0.000000e+00           0.000000e+00   \n",
       "50%            0.000000e+00          0.000000e+00           0.000000e+00   \n",
       "75%            0.000000e+00          0.000000e+00           0.000000e+00   \n",
       "max            1.000000e+00          1.000000e+00           1.000000e+00   \n",
       "\n",
       "       CI_Gauche_qui_se_pose       Acc_x_G       Acc_y_G       Acc_z_G  \\\n",
       "count           1.109582e+06  1.109582e+06  1.109582e+06  1.109582e+06   \n",
       "mean            8.025545e-03  8.085520e-01 -9.366844e+00  1.229753e+00   \n",
       "std             8.922524e-02  4.378746e+00  3.283438e+00  4.330789e+00   \n",
       "min             0.000000e+00 -3.934000e+01 -3.983000e+01 -2.687900e+02   \n",
       "25%             0.000000e+00 -1.320000e+00 -9.670000e+00 -1.000000e-01   \n",
       "50%             0.000000e+00  7.200000e-01 -9.320000e+00  1.800000e+00   \n",
       "75%             0.000000e+00  2.940000e+00 -8.610000e+00  2.850000e+00   \n",
       "max             1.000000e+00  3.956000e+01  3.934000e+01  2.073700e+02   \n",
       "\n",
       "           Gyro_x_G      Gyro_y_G      Gyro_z_G       Acc_x_D       Acc_y_D  \\\n",
       "count  1.109582e+06  1.109582e+06  1.109582e+06  1.109582e+06  1.109582e+06   \n",
       "mean   1.059887e-02 -2.570948e-02 -2.631811e-02 -1.344243e-01 -9.311731e+00   \n",
       "std    1.419479e+00  9.375573e-01  8.483254e-01  4.472912e+00  3.894301e+00   \n",
       "min   -1.793108e+01 -3.541928e+01 -3.506257e+01 -3.935000e+01 -3.135400e+02   \n",
       "25%   -2.378011e-01 -8.944812e-02 -6.763151e-02 -2.560000e+00 -9.650000e+00   \n",
       "50%   -5.454154e-03 -1.090831e-03 -1.090831e-03 -2.500000e-01 -9.170000e+00   \n",
       "75%    1.636246e-02  3.599742e-02  3.163409e-02  2.710000e+00 -8.440000e+00   \n",
       "max    1.177988e+01  3.188062e+01  3.203006e+01  3.964000e+01  3.811000e+01   \n",
       "\n",
       "            Acc_z_D      Gyro_x_D      Gyro_y_D      Gyro_z_D  \\\n",
       "count  1.109582e+06  1.109582e+06  1.109582e+06  1.109582e+06   \n",
       "mean   1.517600e+00  1.183736e-02  1.014876e-02  2.466131e-02   \n",
       "std    3.884345e+00  1.298897e+00  9.374022e-01  8.278960e-01   \n",
       "min   -3.225500e+02 -1.062469e+01 -3.514002e+01 -3.506366e+01   \n",
       "25%    6.200000e-01 -1.668971e-01 -2.836160e-02 -2.508911e-02   \n",
       "50%    1.830000e+00 -3.272492e-03  1.090831e-03  2.181662e-03   \n",
       "75%    2.750000e+00  2.181662e-02  7.199483e-02  7.526732e-02   \n",
       "max    2.892900e+02  2.036581e+01  3.495240e+01  3.384848e+01   \n",
       "\n",
       "       appui_leve_droit  appui_leve_gauche  \n",
       "count      1.109582e+06       1.109582e+06  \n",
       "mean       2.732552e-01       2.779290e-01  \n",
       "std        4.456310e-01       4.479784e-01  \n",
       "min        0.000000e+00       0.000000e+00  \n",
       "25%        0.000000e+00       0.000000e+00  \n",
       "50%        0.000000e+00       0.000000e+00  \n",
       "75%        1.000000e+00       1.000000e+00  \n",
       "max        1.000000e+00       1.000000e+00  "
      ]
     },
     "execution_count": 44,
     "metadata": {},
     "output_type": "execute_result"
    }
   ],
   "source": [
    "df.describe()"
   ]
  },
  {
   "cell_type": "code",
   "execution_count": 45,
   "metadata": {
    "ExecuteTime": {
     "end_time": "2021-03-05T09:18:47.019800Z",
     "start_time": "2021-03-05T09:18:47.007799Z"
    }
   },
   "outputs": [],
   "source": [
    "common_cols = ['id_pat', 'date', 'activity']\n",
    "right_cols = [col for col in df.columns if col.endswith('_D')] + ['appui_leve_droit']\n",
    "left_cols = [col for col in df.columns if col.endswith('_G')] + ['appui_leve_gauche']"
   ]
  },
  {
   "cell_type": "code",
   "execution_count": 46,
   "metadata": {
    "ExecuteTime": {
     "end_time": "2021-03-05T09:18:47.035804Z",
     "start_time": "2021-03-05T09:18:47.024799Z"
    }
   },
   "outputs": [
    {
     "data": {
      "text/plain": [
       "['Acc_x_G',\n",
       " 'Acc_y_G',\n",
       " 'Acc_z_G',\n",
       " 'Gyro_x_G',\n",
       " 'Gyro_y_G',\n",
       " 'Gyro_z_G',\n",
       " 'appui_leve_gauche']"
      ]
     },
     "execution_count": 46,
     "metadata": {},
     "output_type": "execute_result"
    }
   ],
   "source": [
    "left_cols"
   ]
  },
  {
   "cell_type": "code",
   "execution_count": 47,
   "metadata": {
    "ExecuteTime": {
     "end_time": "2021-03-05T09:18:47.191802Z",
     "start_time": "2021-03-05T09:18:47.039803Z"
    }
   },
   "outputs": [],
   "source": [
    "df_right_foot = df[common_cols+right_cols]\n",
    "df_left_foot = df[common_cols+left_cols]"
   ]
  },
  {
   "cell_type": "code",
   "execution_count": 48,
   "metadata": {
    "ExecuteTime": {
     "end_time": "2021-03-05T09:18:47.222800Z",
     "start_time": "2021-03-05T09:18:47.193798Z"
    }
   },
   "outputs": [
    {
     "name": "stderr",
     "output_type": "stream",
     "text": [
      "<ipython-input-48-f2b7288daab8>:1: SettingWithCopyWarning: \n",
      "A value is trying to be set on a copy of a slice from a DataFrame.\n",
      "Try using .loc[row_indexer,col_indexer] = value instead\n",
      "\n",
      "See the caveats in the documentation: https://pandas.pydata.org/pandas-docs/stable/user_guide/indexing.html#returning-a-view-versus-a-copy\n",
      "  df_left_foot['foot_type'] = 0\n",
      "<ipython-input-48-f2b7288daab8>:2: SettingWithCopyWarning: \n",
      "A value is trying to be set on a copy of a slice from a DataFrame.\n",
      "Try using .loc[row_indexer,col_indexer] = value instead\n",
      "\n",
      "See the caveats in the documentation: https://pandas.pydata.org/pandas-docs/stable/user_guide/indexing.html#returning-a-view-versus-a-copy\n",
      "  df_right_foot['foot_type'] = 1\n"
     ]
    }
   ],
   "source": [
    "df_left_foot['foot_type'] = 0\n",
    "df_right_foot['foot_type'] = 1"
   ]
  },
  {
   "cell_type": "code",
   "execution_count": 49,
   "metadata": {
    "ExecuteTime": {
     "end_time": "2021-03-05T09:18:47.239800Z",
     "start_time": "2021-03-05T09:18:47.226813Z"
    }
   },
   "outputs": [
    {
     "name": "stderr",
     "output_type": "stream",
     "text": [
      "C:\\Users\\youne\\anaconda3\\lib\\site-packages\\pandas\\core\\frame.py:4296: SettingWithCopyWarning: \n",
      "A value is trying to be set on a copy of a slice from a DataFrame\n",
      "\n",
      "See the caveats in the documentation: https://pandas.pydata.org/pandas-docs/stable/user_guide/indexing.html#returning-a-view-versus-a-copy\n",
      "  return super().rename(\n"
     ]
    }
   ],
   "source": [
    "df_left_foot.rename(columns={'appui_leve_gauche':'appui_leve'}, inplace=True)\n",
    "df_right_foot.rename(columns={'appui_leve_droit':'appui_leve'}, inplace=True)"
   ]
  },
  {
   "cell_type": "code",
   "execution_count": 50,
   "metadata": {
    "ExecuteTime": {
     "end_time": "2021-03-05T09:18:47.268797Z",
     "start_time": "2021-03-05T09:18:47.248807Z"
    }
   },
   "outputs": [],
   "source": [
    "df_right_foot.rename(columns={col:col.replace('_D', '') for col in df_right_foot.columns if col.endswith('_D')}, inplace=True)\n",
    "df_left_foot.rename(columns={col:col.replace('_G', '') for col in df_left_foot.columns if col.endswith('_G')}, inplace=True)"
   ]
  },
  {
   "cell_type": "code",
   "execution_count": 51,
   "metadata": {
    "ExecuteTime": {
     "end_time": "2021-03-05T09:18:47.330802Z",
     "start_time": "2021-03-05T09:18:47.273805Z"
    }
   },
   "outputs": [
    {
     "data": {
      "text/html": [
       "<div>\n",
       "<style scoped>\n",
       "    .dataframe tbody tr th:only-of-type {\n",
       "        vertical-align: middle;\n",
       "    }\n",
       "\n",
       "    .dataframe tbody tr th {\n",
       "        vertical-align: top;\n",
       "    }\n",
       "\n",
       "    .dataframe thead th {\n",
       "        text-align: right;\n",
       "    }\n",
       "</style>\n",
       "<table border=\"1\" class=\"dataframe\">\n",
       "  <thead>\n",
       "    <tr style=\"text-align: right;\">\n",
       "      <th></th>\n",
       "      <th>id_pat</th>\n",
       "      <th>date</th>\n",
       "      <th>activity</th>\n",
       "      <th>Acc_x</th>\n",
       "      <th>Acc_y</th>\n",
       "      <th>Acc_z</th>\n",
       "      <th>Gyro_x</th>\n",
       "      <th>Gyro_y</th>\n",
       "      <th>Gyro_z</th>\n",
       "      <th>appui_leve</th>\n",
       "      <th>foot_type</th>\n",
       "    </tr>\n",
       "  </thead>\n",
       "  <tbody>\n",
       "    <tr>\n",
       "      <th>0</th>\n",
       "      <td>P01</td>\n",
       "      <td>2019-05-07</td>\n",
       "      <td>2minBassin</td>\n",
       "      <td>2.50</td>\n",
       "      <td>-9.38</td>\n",
       "      <td>0.25</td>\n",
       "      <td>-0.025089</td>\n",
       "      <td>-0.001091</td>\n",
       "      <td>0.021817</td>\n",
       "      <td>0.0</td>\n",
       "      <td>0</td>\n",
       "    </tr>\n",
       "    <tr>\n",
       "      <th>1</th>\n",
       "      <td>P01</td>\n",
       "      <td>2019-05-07</td>\n",
       "      <td>2minBassin</td>\n",
       "      <td>2.43</td>\n",
       "      <td>-9.51</td>\n",
       "      <td>0.34</td>\n",
       "      <td>-0.013090</td>\n",
       "      <td>-0.021817</td>\n",
       "      <td>0.005454</td>\n",
       "      <td>0.0</td>\n",
       "      <td>0</td>\n",
       "    </tr>\n",
       "    <tr>\n",
       "      <th>2</th>\n",
       "      <td>P01</td>\n",
       "      <td>2019-05-07</td>\n",
       "      <td>2minBassin</td>\n",
       "      <td>2.15</td>\n",
       "      <td>-9.62</td>\n",
       "      <td>0.51</td>\n",
       "      <td>-0.001091</td>\n",
       "      <td>-0.018544</td>\n",
       "      <td>0.007636</td>\n",
       "      <td>0.0</td>\n",
       "      <td>0</td>\n",
       "    </tr>\n",
       "    <tr>\n",
       "      <th>3</th>\n",
       "      <td>P01</td>\n",
       "      <td>2019-05-07</td>\n",
       "      <td>2minBassin</td>\n",
       "      <td>2.20</td>\n",
       "      <td>-9.63</td>\n",
       "      <td>0.62</td>\n",
       "      <td>-0.014181</td>\n",
       "      <td>0.011999</td>\n",
       "      <td>-0.003272</td>\n",
       "      <td>0.0</td>\n",
       "      <td>0</td>\n",
       "    </tr>\n",
       "    <tr>\n",
       "      <th>4</th>\n",
       "      <td>P01</td>\n",
       "      <td>2019-05-07</td>\n",
       "      <td>2minBassin</td>\n",
       "      <td>2.20</td>\n",
       "      <td>-9.51</td>\n",
       "      <td>0.93</td>\n",
       "      <td>-0.085085</td>\n",
       "      <td>0.078540</td>\n",
       "      <td>-0.041452</td>\n",
       "      <td>0.0</td>\n",
       "      <td>0</td>\n",
       "    </tr>\n",
       "    <tr>\n",
       "      <th>...</th>\n",
       "      <td>...</td>\n",
       "      <td>...</td>\n",
       "      <td>...</td>\n",
       "      <td>...</td>\n",
       "      <td>...</td>\n",
       "      <td>...</td>\n",
       "      <td>...</td>\n",
       "      <td>...</td>\n",
       "      <td>...</td>\n",
       "      <td>...</td>\n",
       "      <td>...</td>\n",
       "    </tr>\n",
       "    <tr>\n",
       "      <th>1232288</th>\n",
       "      <td>P42</td>\n",
       "      <td>2020-07-13</td>\n",
       "      <td>Step</td>\n",
       "      <td>6.63</td>\n",
       "      <td>-7.29</td>\n",
       "      <td>0.95</td>\n",
       "      <td>-0.002182</td>\n",
       "      <td>-0.010908</td>\n",
       "      <td>-0.003272</td>\n",
       "      <td>0.0</td>\n",
       "      <td>0</td>\n",
       "    </tr>\n",
       "    <tr>\n",
       "      <th>1232289</th>\n",
       "      <td>P42</td>\n",
       "      <td>2020-07-13</td>\n",
       "      <td>Step</td>\n",
       "      <td>6.70</td>\n",
       "      <td>-7.10</td>\n",
       "      <td>0.87</td>\n",
       "      <td>0.000000</td>\n",
       "      <td>-0.028362</td>\n",
       "      <td>-0.009817</td>\n",
       "      <td>0.0</td>\n",
       "      <td>0</td>\n",
       "    </tr>\n",
       "    <tr>\n",
       "      <th>1232290</th>\n",
       "      <td>P42</td>\n",
       "      <td>2020-07-13</td>\n",
       "      <td>Step</td>\n",
       "      <td>6.69</td>\n",
       "      <td>-7.17</td>\n",
       "      <td>0.90</td>\n",
       "      <td>-0.016362</td>\n",
       "      <td>-0.015272</td>\n",
       "      <td>-0.011999</td>\n",
       "      <td>0.0</td>\n",
       "      <td>0</td>\n",
       "    </tr>\n",
       "    <tr>\n",
       "      <th>1232291</th>\n",
       "      <td>P42</td>\n",
       "      <td>2020-07-13</td>\n",
       "      <td>Step</td>\n",
       "      <td>6.71</td>\n",
       "      <td>-7.13</td>\n",
       "      <td>0.87</td>\n",
       "      <td>-0.017453</td>\n",
       "      <td>-0.006545</td>\n",
       "      <td>-0.025089</td>\n",
       "      <td>0.0</td>\n",
       "      <td>0</td>\n",
       "    </tr>\n",
       "    <tr>\n",
       "      <th>1232292</th>\n",
       "      <td>P42</td>\n",
       "      <td>2020-07-13</td>\n",
       "      <td>Step</td>\n",
       "      <td>6.67</td>\n",
       "      <td>-7.21</td>\n",
       "      <td>0.87</td>\n",
       "      <td>-0.011999</td>\n",
       "      <td>-0.011999</td>\n",
       "      <td>-0.019635</td>\n",
       "      <td>0.0</td>\n",
       "      <td>0</td>\n",
       "    </tr>\n",
       "  </tbody>\n",
       "</table>\n",
       "<p>1109582 rows × 11 columns</p>\n",
       "</div>"
      ],
      "text/plain": [
       "        id_pat        date    activity  Acc_x  Acc_y  Acc_z    Gyro_x  \\\n",
       "0          P01  2019-05-07  2minBassin   2.50  -9.38   0.25 -0.025089   \n",
       "1          P01  2019-05-07  2minBassin   2.43  -9.51   0.34 -0.013090   \n",
       "2          P01  2019-05-07  2minBassin   2.15  -9.62   0.51 -0.001091   \n",
       "3          P01  2019-05-07  2minBassin   2.20  -9.63   0.62 -0.014181   \n",
       "4          P01  2019-05-07  2minBassin   2.20  -9.51   0.93 -0.085085   \n",
       "...        ...         ...         ...    ...    ...    ...       ...   \n",
       "1232288    P42  2020-07-13        Step   6.63  -7.29   0.95 -0.002182   \n",
       "1232289    P42  2020-07-13        Step   6.70  -7.10   0.87  0.000000   \n",
       "1232290    P42  2020-07-13        Step   6.69  -7.17   0.90 -0.016362   \n",
       "1232291    P42  2020-07-13        Step   6.71  -7.13   0.87 -0.017453   \n",
       "1232292    P42  2020-07-13        Step   6.67  -7.21   0.87 -0.011999   \n",
       "\n",
       "           Gyro_y    Gyro_z  appui_leve  foot_type  \n",
       "0       -0.001091  0.021817         0.0          0  \n",
       "1       -0.021817  0.005454         0.0          0  \n",
       "2       -0.018544  0.007636         0.0          0  \n",
       "3        0.011999 -0.003272         0.0          0  \n",
       "4        0.078540 -0.041452         0.0          0  \n",
       "...           ...       ...         ...        ...  \n",
       "1232288 -0.010908 -0.003272         0.0          0  \n",
       "1232289 -0.028362 -0.009817         0.0          0  \n",
       "1232290 -0.015272 -0.011999         0.0          0  \n",
       "1232291 -0.006545 -0.025089         0.0          0  \n",
       "1232292 -0.011999 -0.019635         0.0          0  \n",
       "\n",
       "[1109582 rows x 11 columns]"
      ]
     },
     "execution_count": 51,
     "metadata": {},
     "output_type": "execute_result"
    }
   ],
   "source": [
    "df_left_foot"
   ]
  },
  {
   "cell_type": "code",
   "execution_count": 52,
   "metadata": {
    "ExecuteTime": {
     "end_time": "2021-03-05T09:18:47.502797Z",
     "start_time": "2021-03-05T09:18:47.334803Z"
    }
   },
   "outputs": [],
   "source": [
    "df_all = pd.concat([df_left_foot, df_right_foot], axis=0)"
   ]
  },
  {
   "cell_type": "code",
   "execution_count": 53,
   "metadata": {
    "ExecuteTime": {
     "end_time": "2021-03-05T09:18:47.674797Z",
     "start_time": "2021-03-05T09:18:47.506805Z"
    }
   },
   "outputs": [
    {
     "data": {
      "text/plain": [
       "array(['2minBassin', '6min', 'EqSur1Pied', 'GetUpAndGo', 'Step',\n",
       "       '1minJoint', '6min_1', 'Cuisine', 'GetUpAndGo_2', 'DepBrasAvant',\n",
       "       'Madison', 'PencheAvant', 'DepBrasAvant_2'], dtype=object)"
      ]
     },
     "execution_count": 53,
     "metadata": {},
     "output_type": "execute_result"
    }
   ],
   "source": [
    "df_all.activity.unique()"
   ]
  },
  {
   "cell_type": "code",
   "execution_count": 54,
   "metadata": {
    "ExecuteTime": {
     "end_time": "2021-03-05T09:18:47.692802Z",
     "start_time": "2021-03-05T09:18:47.677802Z"
    }
   },
   "outputs": [],
   "source": [
    "values_replace = {'6min_1':'6min', 'GetUpAndGo_2':'GetUpAndGo', 'DepBrasAvant_2':'DepBrasAvant'}"
   ]
  },
  {
   "cell_type": "code",
   "execution_count": 55,
   "metadata": {
    "ExecuteTime": {
     "end_time": "2021-03-05T09:18:52.566258Z",
     "start_time": "2021-03-05T09:18:47.716802Z"
    }
   },
   "outputs": [],
   "source": [
    "df_all.replace(values_replace, inplace=True)"
   ]
  },
  {
   "cell_type": "code",
   "execution_count": 56,
   "metadata": {
    "ExecuteTime": {
     "end_time": "2021-03-05T09:18:53.316237Z",
     "start_time": "2021-03-05T09:18:52.569234Z"
    }
   },
   "outputs": [],
   "source": [
    "df_all = pd.concat(\n",
    "    [df_all,\n",
    "     pd.get_dummies(df_all.id_pat, prefix='pat_'),\n",
    "     pd.get_dummies(df_all.activity, prefix='activity_'),\n",
    "    ],\n",
    "    axis=1\n",
    ")"
   ]
  },
  {
   "cell_type": "code",
   "execution_count": 55,
   "metadata": {
    "ExecuteTime": {
     "end_time": "2021-03-05T08:24:29.739390Z",
     "start_time": "2021-03-05T08:24:29.559340Z"
    }
   },
   "outputs": [
    {
     "data": {
      "text/plain": [
       "(2219164, 48)"
      ]
     },
     "execution_count": 55,
     "metadata": {},
     "output_type": "execute_result"
    }
   ],
   "source": [
    "df_all.shape"
   ]
  },
  {
   "cell_type": "code",
   "execution_count": 23,
   "metadata": {
    "ExecuteTime": {
     "end_time": "2021-03-02T23:28:46.181612Z",
     "start_time": "2021-03-02T23:28:28.060453Z"
    }
   },
   "outputs": [
    {
     "data": {
      "text/plain": [
       "<AxesSubplot:>"
      ]
     },
     "execution_count": 23,
     "metadata": {},
     "output_type": "execute_result"
    },
    {
     "data": {
      "image/png": "[encoded data removed]",
      "text/plain": [
       "<Figure size 1152x1152 with 2 Axes>"
      ]
     },
     "metadata": {
      "needs_background": "light"
     },
     "output_type": "display_data"
    }
   ],
   "source": [
    "corr = df_all.corr()\n",
    "fig = plt.figure(figsize=(16,16))\n",
    "sns.heatmap(\n",
    "    corr, \n",
    "    vmin=-1, vmax=1, center=0,\n",
    "    cmap=sns.diverging_palette(20, 220, n=200),\n",
    "    square=True\n",
    ")"
   ]
  },
  {
   "cell_type": "code",
   "execution_count": 57,
   "metadata": {
    "ExecuteTime": {
     "end_time": "2021-03-05T09:18:53.332233Z",
     "start_time": "2021-03-05T09:18:53.318234Z"
    }
   },
   "outputs": [],
   "source": [
    "train_cols = [col for col in df_all.columns if col.startswith('pat_')] \\\n",
    "            + [col for col in df_all.columns if col.startswith('activity_')] \\\n",
    "            + [col for col in df_all.columns if col.startswith('Acc_')] \\\n",
    "            + [col for col in df_all.columns if col.startswith('Gyro_')] \\\n",
    "            + ['foot_type']\n",
    "            \n",
    "target_col = 'appui_leve'"
   ]
  },
  {
   "cell_type": "code",
   "execution_count": 21,
   "metadata": {
    "ExecuteTime": {
     "end_time": "2021-03-04T16:41:26.344709Z",
     "start_time": "2021-03-04T16:41:26.066724Z"
    }
   },
   "outputs": [],
   "source": [
    "X = df_all[train_cols]\n",
    "y = df_all[target_col]"
   ]
  },
  {
   "cell_type": "code",
   "execution_count": 22,
   "metadata": {
    "ExecuteTime": {
     "end_time": "2021-03-04T16:41:29.020777Z",
     "start_time": "2021-03-04T16:41:26.801691Z"
    }
   },
   "outputs": [],
   "source": [
    "from sklearn.model_selection import train_test_split\n",
    "\n",
    "X_train, X_test, y_train, y_test = train_test_split(\n",
    "    X, y, test_size=0.3, random_state=42\n",
    ")"
   ]
  },
  {
   "cell_type": "code",
   "execution_count": null,
   "metadata": {
    "ExecuteTime": {
     "start_time": "2021-03-04T16:37:35.204Z"
    }
   },
   "outputs": [],
   "source": [
    "print(y_train.sum() / y_train.shape[0])\n",
    "print(y_test.sum() / y_test.shape[0])"
   ]
  },
  {
   "cell_type": "code",
   "execution_count": 23,
   "metadata": {
    "ExecuteTime": {
     "end_time": "2021-03-04T16:41:30.004454Z",
     "start_time": "2021-03-04T16:41:29.683482Z"
    }
   },
   "outputs": [],
   "source": [
    "X_train = X_train.to_numpy().reshape(X_train.shape[0], X_train.shape[1], 1)\n",
    "X_test = X_test.to_numpy().reshape(X_test.shape[0], X_test.shape[1], 1)"
   ]
  },
  {
   "cell_type": "code",
   "execution_count": 22,
   "metadata": {
    "ExecuteTime": {
     "end_time": "2021-03-05T08:48:54.247374Z",
     "start_time": "2021-03-05T08:48:53.692493Z"
    }
   },
   "outputs": [
    {
     "data": {
      "image/png": "[encoded data removed]",
      "text/plain": [
       "<IPython.core.display.Image object>"
      ]
     },
     "execution_count": 22,
     "metadata": {},
     "output_type": "execute_result"
    }
   ],
   "source": [
    "inputs = tf.keras.Input(shape=(50,2), name='input')\n",
    "\n",
    "x = tf.keras.layers.LSTM(32, return_sequences=True, activation=tf.nn.relu)(inputs)\n",
    "x = tf.keras.layers.LSTM(32, activation=tf.nn.relu)(x)\n",
    "\n",
    "x = tf.expand_dims(x, axis=2)\n",
    "\n",
    "x = tf.keras.layers.Conv1D(64, 3, activation=tf.nn.relu)(x)\n",
    "x = tf.keras.layers.Conv1D(64, 3, activation=tf.nn.relu)(x)\n",
    "x = tf.keras.layers.Dropout(0.5)(x)\n",
    "x = tf.keras.layers.MaxPooling1D(pool_size=2)(x)\n",
    "\n",
    "x = tf.keras.layers.Flatten()(x)\n",
    "\n",
    "x = tf.keras.layers.Dense(100, activation=tf.nn.relu)(x)\n",
    "x = tf.keras.layers.Dense(1, activation=tf.nn.sigmoid)(x)\n",
    "model_tst = tf.keras.Model(inputs=[inputs], outputs=[x])\n",
    "\n",
    "tf.keras.utils.plot_model(model_tst, rankdir='TB', to_file='../../Models/rcnn_architecture.png')"
   ]
  },
  {
   "cell_type": "code",
   "execution_count": 58,
   "metadata": {
    "ExecuteTime": {
     "end_time": "2021-03-05T09:18:56.851515Z",
     "start_time": "2021-03-05T09:18:56.546211Z"
    }
   },
   "outputs": [],
   "source": [
    "import tensorflow as tf\n",
    "\n",
    "class RCNNModel(tf.keras.Model):\n",
    "\n",
    "  def __init__(self):\n",
    "    super(RCNNModel, self).__init__()\n",
    "    self.lstm1 = tf.keras.layers.LSTM(32, return_sequences=True, activation=tf.nn.relu)\n",
    "    self.lstm2 = tf.keras.layers.LSTM(32, activation=tf.nn.relu)\n",
    "    \n",
    "    self.conv1 = tf.keras.layers.Conv1D(64, 3, activation=tf.nn.relu)\n",
    "    self.conv2 = tf.keras.layers.Conv1D(64, 3, activation=tf.nn.relu)\n",
    "    self.dropout = tf.keras.layers.Dropout(0.5)\n",
    "    self.maxpool = tf.keras.layers.MaxPooling1D(pool_size=2)\n",
    "    \n",
    "    self.flatten = tf.keras.layers.Flatten()\n",
    "    \n",
    "    self.fc1 = tf.keras.layers.Dense(100, activation=tf.nn.relu)\n",
    "    self.fc2 = tf.keras.layers.Dense(1, activation=tf.nn.sigmoid)\n",
    "    \n",
    "  def call(self, inputs):\n",
    "    x = self.lstm1(inputs)\n",
    "    x = self.lstm2(x)\n",
    "    \n",
    "    x = tf.expand_dims(x, axis=2)\n",
    "    \n",
    "    x = self.conv1(x)\n",
    "    x = self.conv2(x)\n",
    "    x = self.dropout(x)\n",
    "    x = self.maxpool(x)\n",
    "    \n",
    "    x = self.flatten(x)\n",
    "    \n",
    "    x = self.fc1(x)    \n",
    "    return self.fc2(x)\n",
    "\n",
    "model = RCNNModel()\n"
   ]
  },
  {
   "cell_type": "code",
   "execution_count": 4,
   "metadata": {
    "ExecuteTime": {
     "end_time": "2021-03-05T08:38:17.958414Z",
     "start_time": "2021-03-05T08:38:17.857448Z"
    }
   },
   "outputs": [
    {
     "data": {
      "text/plain": [
       "<pydotplus.graphviz.Dot at 0x23cbb251ca0>"
      ]
     },
     "execution_count": 4,
     "metadata": {},
     "output_type": "execute_result"
    }
   ],
   "source": [
    "tf.keras.utils.plot_model(model, to_file='../../Models/rcnn_architecture.png', show_shapes=True)"
   ]
  },
  {
   "cell_type": "code",
   "execution_count": 42,
   "metadata": {
    "ExecuteTime": {
     "end_time": "2021-03-04T17:49:35.642645Z",
     "start_time": "2021-03-04T17:49:35.623649Z"
    }
   },
   "outputs": [],
   "source": [
    "model.compile(loss='binary_crossentropy', optimizer='adam', metrics=['accuracy'])"
   ]
  },
  {
   "cell_type": "code",
   "execution_count": 31,
   "metadata": {
    "ExecuteTime": {
     "end_time": "2021-03-03T01:46:19.640572Z",
     "start_time": "2021-03-02T23:28:56.177647Z"
    }
   },
   "outputs": [
    {
     "name": "stdout",
     "output_type": "stream",
     "text": [
      "Epoch 1/5\n",
      "48545/48545 [==============================] - 1578s 32ms/step - loss: 0.1077 - accuracy: 0.9600\n",
      "Epoch 2/5\n",
      "48545/48545 [==============================] - 1671s 34ms/step - loss: 0.0782 - accuracy: 0.9704\n",
      "Epoch 3/5\n",
      "48545/48545 [==============================] - 1669s 34ms/step - loss: 0.0749 - accuracy: 0.9718\n",
      "Epoch 4/5\n",
      "48545/48545 [==============================] - 1662s 34ms/step - loss: 0.0721 - accuracy: 0.9724\n",
      "Epoch 5/5\n",
      "48545/48545 [==============================] - 1662s 34ms/step - loss: 0.0707 - accuracy: 0.9729\n"
     ]
    }
   ],
   "source": [
    "history = model.fit(X_train, y_train, epochs=5)"
   ]
  },
  {
   "cell_type": "code",
   "execution_count": 32,
   "metadata": {
    "ExecuteTime": {
     "end_time": "2021-03-03T01:46:33.112963Z",
     "start_time": "2021-03-03T01:46:19.672694Z"
    }
   },
   "outputs": [
    {
     "name": "stdout",
     "output_type": "stream",
     "text": [
      "INFO:tensorflow:Assets written to: ../../Models/ftg_basic_rcnn\\assets\n"
     ]
    }
   ],
   "source": [
    "model.save('../../Models/ftg_basic_rcnn')"
   ]
  },
  {
   "cell_type": "code",
   "execution_count": 33,
   "metadata": {
    "ExecuteTime": {
     "end_time": "2021-03-03T01:50:12.130155Z",
     "start_time": "2021-03-03T01:46:33.137276Z"
    }
   },
   "outputs": [
    {
     "name": "stdout",
     "output_type": "stream",
     "text": [
      "20805/20805 [==============================] - 176s 8ms/step - loss: 0.0729 - accuracy: 0.9735\n",
      "test loss, test acc: [0.07290001213550568, 0.9735186100006104]\n"
     ]
    }
   ],
   "source": [
    "results = model.evaluate(X_test, y_test)\n",
    "print(\"test loss, test acc:\", results)"
   ]
  },
  {
   "cell_type": "code",
   "execution_count": 34,
   "metadata": {
    "ExecuteTime": {
     "end_time": "2021-03-03T01:50:12.778961Z",
     "start_time": "2021-03-03T01:50:12.417898Z"
    }
   },
   "outputs": [
    {
     "data": {
      "text/plain": [
       "[<matplotlib.lines.Line2D at 0x1ce74fbb880>]"
      ]
     },
     "execution_count": 34,
     "metadata": {},
     "output_type": "execute_result"
    },
    {
     "data": {
      "image/png": "[encoded data removed]",
      "text/plain": [
       "<Figure size 432x288 with 1 Axes>"
      ]
     },
     "metadata": {
      "needs_background": "light"
     },
     "output_type": "display_data"
    }
   ],
   "source": [
    "plt.plot(history.history['accuracy'])"
   ]
  },
  {
   "cell_type": "code",
   "execution_count": 35,
   "metadata": {
    "ExecuteTime": {
     "end_time": "2021-03-03T01:50:13.077297Z",
     "start_time": "2021-03-03T01:50:12.783048Z"
    }
   },
   "outputs": [
    {
     "data": {
      "text/plain": [
       "[<matplotlib.lines.Line2D at 0x1ce74f71790>]"
      ]
     },
     "execution_count": 35,
     "metadata": {},
     "output_type": "execute_result"
    },
    {
     "data": {
      "image/png": "[encoded data removed]",
      "text/plain": [
       "<Figure size 432x288 with 1 Axes>"
      ]
     },
     "metadata": {
      "needs_background": "light"
     },
     "output_type": "display_data"
    }
   ],
   "source": [
    "plt.plot(history.history['loss'])"
   ]
  },
  {
   "cell_type": "code",
   "execution_count": 60,
   "metadata": {
    "ExecuteTime": {
     "end_time": "2021-03-05T09:19:29.065973Z",
     "start_time": "2021-03-05T09:19:29.045973Z"
    }
   },
   "outputs": [],
   "source": [
    "def preprocess_data(df, id_pat, activity):\n",
    "    my_df = df.copy()\n",
    "    my_df.appui_leve_droit = np.maximum(my_df.appui_leve_droit, 0)\n",
    "    my_df.appui_leve_gauche = np.maximum(my_df.appui_leve_gauche, 0)\n",
    "    \n",
    "    values_replace = {'6min_1':'6min', 'GetUpAndGo_2':'GetUpAndGo', 'DepBrasAvant_2':'DepBrasAvant'}\n",
    "    my_df.replace(values_replace, inplace=True)\n",
    "    \n",
    "    my_df = pd.concat(\n",
    "        [my_df,\n",
    "         pd.get_dummies(my_df.id_pat, prefix='pat_'),\n",
    "         pd.get_dummies(my_df.activity, prefix='activity_'),\n",
    "        ],\n",
    "        axis=1\n",
    "    )\n",
    "    \n",
    "    my_df = my_df[(my_df.id_pat==id_pat)&(my_df.activity==activity)]\n",
    "    \n",
    "    common_cols = [col for col in my_df.columns if col.startswith('pat_')] + [col for col in my_df.columns if col.startswith('activity_')] + ['id_pat', 'date', 'activity']\n",
    "    right_cols = [col for col in my_df.columns if col.endswith('_D')] + ['appui_leve_droit']\n",
    "    left_cols = [col for col in my_df.columns if col.endswith('_G')] + ['appui_leve_gauche']\n",
    "    \n",
    "    df_right_foot = my_df[common_cols+right_cols]\n",
    "    df_left_foot = my_df[common_cols+left_cols]\n",
    "    \n",
    "    df_left_foot['foot_type'] = 0\n",
    "    df_right_foot['foot_type'] = 1\n",
    "    \n",
    "    df_left_foot.rename(columns={'appui_leve_gauche':'appui_leve'}, inplace=True)\n",
    "    df_right_foot.rename(columns={'appui_leve_droit':'appui_leve'}, inplace=True)\n",
    "    \n",
    "    df_right_foot.rename(columns={col:col.replace('_D', '') for col in df_right_foot.columns if col.endswith('_D')}, inplace=True)\n",
    "    df_left_foot.rename(columns={col:col.replace('_G', '') for col in df_left_foot.columns if col.endswith('_G')}, inplace=True)\n",
    "    \n",
    "    X_left = df_left_foot[train_cols]\n",
    "    X_right = df_right_foot[train_cols]\n",
    "    \n",
    "    X_left = X_left.to_numpy().reshape(X_left.shape[0], X_left.shape[1], 1)\n",
    "    X_right = X_right.to_numpy().reshape(X_right.shape[0], X_right.shape[1], 1)\n",
    "    \n",
    "    y_left = df_left_foot[target_col]\n",
    "    y_right = df_right_foot[target_col]\n",
    "    \n",
    "    return X_left, X_right, y_left, y_right"
   ]
  },
  {
   "cell_type": "code",
   "execution_count": 61,
   "metadata": {
    "ExecuteTime": {
     "end_time": "2021-03-05T09:19:45.445700Z",
     "start_time": "2021-03-05T09:19:29.631467Z"
    }
   },
   "outputs": [
    {
     "name": "stderr",
     "output_type": "stream",
     "text": [
      "<ipython-input-60-4e774c2bbeb7>:26: SettingWithCopyWarning: \n",
      "A value is trying to be set on a copy of a slice from a DataFrame.\n",
      "Try using .loc[row_indexer,col_indexer] = value instead\n",
      "\n",
      "See the caveats in the documentation: https://pandas.pydata.org/pandas-docs/stable/user_guide/indexing.html#returning-a-view-versus-a-copy\n",
      "  df_left_foot['foot_type'] = 0\n",
      "<ipython-input-60-4e774c2bbeb7>:27: SettingWithCopyWarning: \n",
      "A value is trying to be set on a copy of a slice from a DataFrame.\n",
      "Try using .loc[row_indexer,col_indexer] = value instead\n",
      "\n",
      "See the caveats in the documentation: https://pandas.pydata.org/pandas-docs/stable/user_guide/indexing.html#returning-a-view-versus-a-copy\n",
      "  df_right_foot['foot_type'] = 1\n",
      "C:\\Users\\youne\\anaconda3\\lib\\site-packages\\pandas\\core\\frame.py:4296: SettingWithCopyWarning: \n",
      "A value is trying to be set on a copy of a slice from a DataFrame\n",
      "\n",
      "See the caveats in the documentation: https://pandas.pydata.org/pandas-docs/stable/user_guide/indexing.html#returning-a-view-versus-a-copy\n",
      "  return super().rename(\n"
     ]
    }
   ],
   "source": [
    "X_tst_left, X_tst_right, y_tst_left, y_tst_right = preprocess_data(df, 'P42', 'Step')"
   ]
  },
  {
   "cell_type": "code",
   "execution_count": 90,
   "metadata": {
    "ExecuteTime": {
     "end_time": "2021-03-03T15:42:25.076823Z",
     "start_time": "2021-03-03T15:42:24.359828Z"
    }
   },
   "outputs": [],
   "source": [
    "y_temp_pred = np.where(model.predict(X_tst_right)>=0.55, 1, 0)"
   ]
  },
  {
   "cell_type": "code",
   "execution_count": 91,
   "metadata": {
    "ExecuteTime": {
     "end_time": "2021-03-03T15:42:25.760833Z",
     "start_time": "2021-03-03T15:42:25.078829Z"
    }
   },
   "outputs": [
    {
     "data": {
      "text/plain": [
       "Text(0.5, 1.0, 'Predicted values')"
      ]
     },
     "execution_count": 91,
     "metadata": {},
     "output_type": "execute_result"
    },
    {
     "data": {
      "image/png": "[encoded data removed]",
      "text/plain": [
       "<Figure size 1440x720 with 3 Axes>"
      ]
     },
     "metadata": {
      "needs_background": "light"
     },
     "output_type": "display_data"
    }
   ],
   "source": [
    "f, (ax1, ax2, ax3) = plt.subplots(3, 1, sharex=True, figsize=(20,10))\n",
    "ax1.plot(y_tst_right.values, label='real values')\n",
    "ax1.plot(y_temp_pred, label='predicted values')\n",
    "ax1.set_title('Real + predicted')\n",
    "ax1.legend()\n",
    "\n",
    "ax2.plot(y_tst_right.values, label='real values')\n",
    "ax2.set_title('Real values')\n",
    "\n",
    "ax3.plot(y_temp_pred, label='predicted values')\n",
    "ax3.set_title('Predicted values')"
   ]
  },
  {
   "cell_type": "code",
   "execution_count": 43,
   "metadata": {
    "ExecuteTime": {
     "end_time": "2021-03-04T19:16:58.889782Z",
     "start_time": "2021-03-04T17:49:42.919832Z"
    }
   },
   "outputs": [
    {
     "name": "stdout",
     "output_type": "stream",
     "text": [
      "Epoch 1/10\n",
      "4248/4248 [==============================] - 499s 115ms/step - loss: 0.1472 - accuracy: 0.9452 - val_loss: 0.0865 - val_accuracy: 0.9681\n",
      "Epoch 2/10\n",
      "4248/4248 [==============================] - 581s 137ms/step - loss: 0.0876 - accuracy: 0.9669 - val_loss: 0.0947 - val_accuracy: 0.9634\n",
      "Epoch 3/10\n",
      "4248/4248 [==============================] - 480s 113ms/step - loss: 0.0813 - accuracy: 0.9691 - val_loss: 0.0792 - val_accuracy: 0.9710\n",
      "Epoch 4/10\n",
      "4248/4248 [==============================] - 581s 137ms/step - loss: 0.0791 - accuracy: 0.9700 - val_loss: 0.0781 - val_accuracy: 0.9711\n",
      "Epoch 5/10\n",
      "4248/4248 [==============================] - 533s 126ms/step - loss: 0.0782 - accuracy: 0.9701 - val_loss: 0.0771 - val_accuracy: 0.9714\n",
      "Epoch 6/10\n",
      "4248/4248 [==============================] - 447s 105ms/step - loss: 0.0762 - accuracy: 0.9709 - val_loss: 0.0742 - val_accuracy: 0.9719\n",
      "Epoch 7/10\n",
      "4248/4248 [==============================] - 597s 140ms/step - loss: 0.0744 - accuracy: 0.9714 - val_loss: 0.0733 - val_accuracy: 0.9723\n",
      "Epoch 8/10\n",
      "4248/4248 [==============================] - 617s 145ms/step - loss: 0.0730 - accuracy: 0.9720 - val_loss: 0.0716 - val_accuracy: 0.9730\n",
      "Epoch 9/10\n",
      "4248/4248 [==============================] - 465s 110ms/step - loss: 0.0727 - accuracy: 0.9719 - val_loss: 0.0701 - val_accuracy: 0.9736\n",
      "Epoch 10/10\n",
      "4248/4248 [==============================] - 436s 103ms/step - loss: 0.0703 - accuracy: 0.9730 - val_loss: 0.0700 - val_accuracy: 0.9735\n"
     ]
    }
   ],
   "source": [
    "history = model.fit(X_train, y_train, epochs=10, batch_size=256, validation_split=0.3)"
   ]
  },
  {
   "cell_type": "code",
   "execution_count": 44,
   "metadata": {
    "ExecuteTime": {
     "end_time": "2021-03-04T19:19:44.168891Z",
     "start_time": "2021-03-04T19:16:58.898612Z"
    }
   },
   "outputs": [
    {
     "name": "stdout",
     "output_type": "stream",
     "text": [
      "20805/20805 [==============================] - 164s 8ms/step - loss: 0.0698 - accuracy: 0.9733\n",
      "test loss, test acc: [0.06978360563516617, 0.9732933044433594]\n"
     ]
    }
   ],
   "source": [
    "results = model.evaluate(X_test, y_test)\n",
    "print(\"test loss, test acc:\", results)"
   ]
  },
  {
   "cell_type": "code",
   "execution_count": 45,
   "metadata": {
    "ExecuteTime": {
     "end_time": "2021-03-04T19:20:00.458189Z",
     "start_time": "2021-03-04T19:19:44.177885Z"
    }
   },
   "outputs": [
    {
     "name": "stdout",
     "output_type": "stream",
     "text": [
      "INFO:tensorflow:Assets written to: ../../Models/ftg_val_bs256_rcnn\\assets\n"
     ]
    }
   ],
   "source": [
    "model.save('../../Models/ftg_val_bs256_rcnn')"
   ]
  },
  {
   "cell_type": "code",
   "execution_count": 46,
   "metadata": {
    "ExecuteTime": {
     "end_time": "2021-03-04T19:20:00.832826Z",
     "start_time": "2021-03-04T19:20:00.460058Z"
    }
   },
   "outputs": [
    {
     "data": {
      "text/plain": [
       "<matplotlib.legend.Legend at 0x261f20e05b0>"
      ]
     },
     "execution_count": 46,
     "metadata": {},
     "output_type": "execute_result"
    },
    {
     "data": {
      "image/png": "[encoded data removed]",
      "text/plain": [
       "<Figure size 432x288 with 1 Axes>"
      ]
     },
     "metadata": {
      "needs_background": "light"
     },
     "output_type": "display_data"
    }
   ],
   "source": [
    "plt.plot(history.history['accuracy'], label='train_acc')\n",
    "plt.plot(history.history['val_accuracy'], label='val_acc')\n",
    "plt.legend()"
   ]
  },
  {
   "cell_type": "code",
   "execution_count": 47,
   "metadata": {
    "ExecuteTime": {
     "end_time": "2021-03-04T19:20:01.192830Z",
     "start_time": "2021-03-04T19:20:00.836833Z"
    }
   },
   "outputs": [
    {
     "data": {
      "text/plain": [
       "<matplotlib.legend.Legend at 0x261f22b7a60>"
      ]
     },
     "execution_count": 47,
     "metadata": {},
     "output_type": "execute_result"
    },
    {
     "data": {
      "image/png": "[encoded data removed]",
      "text/plain": [
       "<Figure size 432x288 with 1 Axes>"
      ]
     },
     "metadata": {
      "needs_background": "light"
     },
     "output_type": "display_data"
    }
   ],
   "source": [
    "plt.plot(history.history['loss'], label='train_loss')\n",
    "plt.plot(history.history['val_loss'], label='val_loss')\n",
    "plt.legend()"
   ]
  },
  {
   "cell_type": "code",
   "execution_count": 51,
   "metadata": {
    "ExecuteTime": {
     "end_time": "2021-03-04T19:22:06.069572Z",
     "start_time": "2021-03-04T19:22:03.562644Z"
    }
   },
   "outputs": [],
   "source": [
    "y_temp_pred = np.where(model.predict(X_tst_right)>=0.5, 1, 0)"
   ]
  },
  {
   "cell_type": "code",
   "execution_count": 52,
   "metadata": {
    "ExecuteTime": {
     "end_time": "2021-03-04T19:22:07.063836Z",
     "start_time": "2021-03-04T19:22:06.073486Z"
    }
   },
   "outputs": [
    {
     "data": {
      "text/plain": [
       "Text(0.5, 1.0, 'Predicted values')"
      ]
     },
     "execution_count": 52,
     "metadata": {},
     "output_type": "execute_result"
    },
    {
     "data": {
      "image/png": "[encoded data removed]",
      "text/plain": [
       "<Figure size 1440x720 with 3 Axes>"
      ]
     },
     "metadata": {
      "needs_background": "light"
     },
     "output_type": "display_data"
    }
   ],
   "source": [
    "f, (ax1, ax2, ax3) = plt.subplots(3, 1, sharex=True, figsize=(20,10))\n",
    "ax1.plot(y_tst_right.values, label='real values')\n",
    "ax1.plot(y_temp_pred, label='predicted values')\n",
    "ax1.set_title('Real + predicted')\n",
    "ax1.legend()\n",
    "\n",
    "ax2.plot(y_tst_right.values, label='real values')\n",
    "ax2.set_title('Real values')\n",
    "\n",
    "ax3.plot(y_temp_pred, label='predicted values')\n",
    "ax3.set_title('Predicted values')"
   ]
  },
  {
   "cell_type": "markdown",
   "metadata": {},
   "source": [
    "**TO DO:  calculer les écarts entre levés du pieds et éliminer ceux en dessous du minimum ainsi que les temps de levé de pieds**"
   ]
  },
  {
   "cell_type": "code",
   "execution_count": 54,
   "metadata": {
    "ExecuteTime": {
     "end_time": "2021-03-04T19:23:39.689044Z",
     "start_time": "2021-03-04T19:23:39.680041Z"
    }
   },
   "outputs": [
    {
     "data": {
      "text/plain": [
       "(1067, 1)"
      ]
     },
     "execution_count": 54,
     "metadata": {},
     "output_type": "execute_result"
    }
   ],
   "source": [
    "y_temp_pred.shape"
   ]
  },
  {
   "cell_type": "code",
   "execution_count": 67,
   "metadata": {
    "ExecuteTime": {
     "end_time": "2021-03-05T09:20:48.972514Z",
     "start_time": "2021-03-05T09:20:40.808754Z"
    }
   },
   "outputs": [],
   "source": [
    "model = tf.keras.models.load_model('../../Models/ftg_basic_rcnn')\n"
   ]
  },
  {
   "cell_type": "code",
   "execution_count": 68,
   "metadata": {
    "ExecuteTime": {
     "end_time": "2021-03-05T09:20:49.571715Z",
     "start_time": "2021-03-05T09:20:48.974707Z"
    }
   },
   "outputs": [],
   "source": [
    "y_temp_pred = np.where(model.predict(X_tst_right)>=0.5, 1, 0)"
   ]
  },
  {
   "cell_type": "code",
   "execution_count": 69,
   "metadata": {
    "ExecuteTime": {
     "end_time": "2021-03-05T09:20:50.201430Z",
     "start_time": "2021-03-05T09:20:49.574709Z"
    }
   },
   "outputs": [
    {
     "data": {
      "text/plain": [
       "Text(0.5, 1.0, 'Predicted values')"
      ]
     },
     "execution_count": 69,
     "metadata": {},
     "output_type": "execute_result"
    },
    {
     "data": {
      "image/png": "[encoded data removed]",
      "text/plain": [
       "<Figure size 1440x720 with 3 Axes>"
      ]
     },
     "metadata": {
      "needs_background": "light"
     },
     "output_type": "display_data"
    }
   ],
   "source": [
    "f, (ax1, ax2, ax3) = plt.subplots(3, 1, sharex=True, figsize=(20,10))\n",
    "ax1.plot(y_tst_right.values, label='real values')\n",
    "ax1.plot(y_temp_pred, label='predicted values')\n",
    "ax1.set_title('Real + predicted')\n",
    "ax1.legend()\n",
    "\n",
    "ax2.plot(y_tst_right.values, label='real values')\n",
    "ax2.set_title('Real values')\n",
    "\n",
    "ax3.plot(y_temp_pred, label='predicted values')\n",
    "ax3.set_title('Predicted values')"
   ]
  },
  {
   "cell_type": "code",
   "execution_count": null,
   "metadata": {},
   "outputs": [],
   "source": []
  }
 ],
 "metadata": {
  "kernelspec": {
   "display_name": "Python 3",
   "language": "python",
   "name": "python3"
  },
  "language_info": {
   "codemirror_mode": {
    "name": "ipython",
    "version": 3
   },
   "file_extension": ".py",
   "mimetype": "text/x-python",
   "name": "python",
   "nbconvert_exporter": "python",
   "pygments_lexer": "ipython3",
   "version": "3.8.5"
  },
  "toc": {
   "base_numbering": 1,
   "nav_menu": {},
   "number_sections": true,
   "sideBar": true,
   "skip_h1_title": false,
   "title_cell": "Table of Contents",
   "title_sidebar": "Contents",
   "toc_cell": false,
   "toc_position": {},
   "toc_section_display": true,
   "toc_window_display": false
  }
 },
 "nbformat": 4,
 "nbformat_minor": 4
}

{
 "cells": [
  {
   "cell_type": "code",
   "execution_count": 1,
   "metadata": {
    "ExecuteTime": {
     "end_time": "2021-02-26T10:36:25.074822Z",
     "start_time": "2021-02-26T10:36:22.513824Z"
    }
   },
   "outputs": [],
   "source": [
    "import os\n",
    "import numpy as np\n",
    "import pandas as pd\n",
    "\n",
    "import seaborn as sns\n",
    "import matplotlib.pyplot as plt"
   ]
  },
  {
   "cell_type": "code",
   "execution_count": 2,
   "metadata": {
    "ExecuteTime": {
     "end_time": "2021-02-26T10:36:25.090823Z",
     "start_time": "2021-02-26T10:36:25.078825Z"
    }
   },
   "outputs": [],
   "source": [
    "pd.set_option('max_columns', None)"
   ]
  },
  {
   "cell_type": "code",
   "execution_count": 3,
   "metadata": {
    "ExecuteTime": {
     "end_time": "2021-02-26T10:36:25.137863Z",
     "start_time": "2021-02-26T10:36:25.104825Z"
    }
   },
   "outputs": [],
   "source": [
    "DATA_PATH = \"../../Data/STRUCTURED_DATA/DATA_CEA/all_cea_data.csv\""
   ]
  },
  {
   "cell_type": "code",
   "execution_count": 4,
   "metadata": {
    "ExecuteTime": {
     "end_time": "2021-02-26T10:36:38.613761Z",
     "start_time": "2021-02-26T10:36:25.141824Z"
    }
   },
   "outputs": [],
   "source": [
    "df = pd.read_csv(DATA_PATH)"
   ]
  },
  {
   "cell_type": "code",
   "execution_count": 5,
   "metadata": {
    "ExecuteTime": {
     "end_time": "2021-02-26T10:36:38.739767Z",
     "start_time": "2021-02-26T10:36:38.616764Z"
    }
   },
   "outputs": [
    {
     "data": {
      "text/html": [
       "<div>\n",
       "<style scoped>\n",
       "    .dataframe tbody tr th:only-of-type {\n",
       "        vertical-align: middle;\n",
       "    }\n",
       "\n",
       "    .dataframe tbody tr th {\n",
       "        vertical-align: top;\n",
       "    }\n",
       "\n",
       "    .dataframe thead th {\n",
       "        text-align: right;\n",
       "    }\n",
       "</style>\n",
       "<table border=\"1\" class=\"dataframe\">\n",
       "  <thead>\n",
       "    <tr style=\"text-align: right;\">\n",
       "      <th></th>\n",
       "      <th>id_pat</th>\n",
       "      <th>date</th>\n",
       "      <th>activity</th>\n",
       "      <th>timeline</th>\n",
       "      <th>Avant_pied_droit_appui</th>\n",
       "      <th>Medio_pied_droit_appui</th>\n",
       "      <th>Arriere_pied_droit_appui</th>\n",
       "      <th>Avant_pied_gauche_appui</th>\n",
       "      <th>Medio_pied_gauche_appui</th>\n",
       "      <th>Arriere_pied_gauche_appui</th>\n",
       "      <th>Semelle_Droite_Capt_1</th>\n",
       "      <th>Semelle_Droite_Capt_2</th>\n",
       "      <th>Semelle_Droite_Capt_3</th>\n",
       "      <th>Semelle_Droite_Capt_4</th>\n",
       "      <th>Semelle_Droite_Capt_5</th>\n",
       "      <th>Semelle_Droite_Capt_6</th>\n",
       "      <th>Semelle_Droite_Capt_7</th>\n",
       "      <th>Semelle_Droite_Capt_8</th>\n",
       "      <th>Semelle_Droite_Capt_9</th>\n",
       "      <th>Semelle_Droite_Capt_10</th>\n",
       "      <th>Semelle_Gauche_Capt_1</th>\n",
       "      <th>Semelle_Gauche_Capt_2</th>\n",
       "      <th>Semelle_Gauche_Capt_3</th>\n",
       "      <th>Semelle_Gauche_Capt_4</th>\n",
       "      <th>Semelle_Gauche_Capt_5</th>\n",
       "      <th>Semelle_Gauche_Capt_6</th>\n",
       "      <th>Semelle_Gauche_Capt_7</th>\n",
       "      <th>Semelle_Gauche_Capt_8</th>\n",
       "      <th>Semelle_Gauche_Capt_9</th>\n",
       "      <th>Semelle_Gauche_Capt_10</th>\n",
       "      <th>Te</th>\n",
       "      <th>CI_Droit_qui_se_leve</th>\n",
       "      <th>CI_Droit_qui_se_pose</th>\n",
       "      <th>CI_Gauche_qui_se_leve</th>\n",
       "      <th>CI_Gauche_qui_se_pose</th>\n",
       "      <th>Acc_x_G</th>\n",
       "      <th>Acc_y_G</th>\n",
       "      <th>Acc_z_G</th>\n",
       "      <th>Gyro_x_G</th>\n",
       "      <th>Gyro_y_G</th>\n",
       "      <th>Gyro_z_G</th>\n",
       "      <th>Acc_x_D</th>\n",
       "      <th>Acc_y_D</th>\n",
       "      <th>Acc_z_D</th>\n",
       "      <th>Gyro_x_D</th>\n",
       "      <th>Gyro_y_D</th>\n",
       "      <th>Gyro_z_D</th>\n",
       "    </tr>\n",
       "  </thead>\n",
       "  <tbody>\n",
       "    <tr>\n",
       "      <th>0</th>\n",
       "      <td>P01</td>\n",
       "      <td>2019-05-07</td>\n",
       "      <td>2minBassin</td>\n",
       "      <td>0.000000</td>\n",
       "      <td>1.0</td>\n",
       "      <td>0.0</td>\n",
       "      <td>0.0</td>\n",
       "      <td>0.0</td>\n",
       "      <td>1.0</td>\n",
       "      <td>0.0</td>\n",
       "      <td>49.0</td>\n",
       "      <td>19.0</td>\n",
       "      <td>18.0</td>\n",
       "      <td>34.0</td>\n",
       "      <td>30.0</td>\n",
       "      <td>34.0</td>\n",
       "      <td>40.0</td>\n",
       "      <td>19.0</td>\n",
       "      <td>63.0</td>\n",
       "      <td>11.0</td>\n",
       "      <td>5.0</td>\n",
       "      <td>7.0</td>\n",
       "      <td>12.0</td>\n",
       "      <td>45.0</td>\n",
       "      <td>30.0</td>\n",
       "      <td>17.0</td>\n",
       "      <td>11.0</td>\n",
       "      <td>15.0</td>\n",
       "      <td>11.0</td>\n",
       "      <td>15.0</td>\n",
       "      <td>0.025575</td>\n",
       "      <td>0.0</td>\n",
       "      <td>0.0</td>\n",
       "      <td>0.0</td>\n",
       "      <td>0.0</td>\n",
       "      <td>2.50</td>\n",
       "      <td>-9.38</td>\n",
       "      <td>0.25</td>\n",
       "      <td>-0.025089</td>\n",
       "      <td>-0.001091</td>\n",
       "      <td>0.021817</td>\n",
       "      <td>-0.12</td>\n",
       "      <td>-9.38</td>\n",
       "      <td>2.67</td>\n",
       "      <td>-0.002182</td>\n",
       "      <td>-0.005454</td>\n",
       "      <td>-0.001091</td>\n",
       "    </tr>\n",
       "    <tr>\n",
       "      <th>1</th>\n",
       "      <td>P01</td>\n",
       "      <td>2019-05-07</td>\n",
       "      <td>2minBassin</td>\n",
       "      <td>0.025575</td>\n",
       "      <td>1.0</td>\n",
       "      <td>0.0</td>\n",
       "      <td>0.0</td>\n",
       "      <td>0.0</td>\n",
       "      <td>1.0</td>\n",
       "      <td>0.0</td>\n",
       "      <td>49.0</td>\n",
       "      <td>19.0</td>\n",
       "      <td>18.0</td>\n",
       "      <td>34.0</td>\n",
       "      <td>30.0</td>\n",
       "      <td>34.0</td>\n",
       "      <td>40.0</td>\n",
       "      <td>19.0</td>\n",
       "      <td>62.0</td>\n",
       "      <td>11.0</td>\n",
       "      <td>5.0</td>\n",
       "      <td>7.0</td>\n",
       "      <td>12.0</td>\n",
       "      <td>45.0</td>\n",
       "      <td>30.0</td>\n",
       "      <td>17.0</td>\n",
       "      <td>10.0</td>\n",
       "      <td>15.0</td>\n",
       "      <td>11.0</td>\n",
       "      <td>15.0</td>\n",
       "      <td>0.025575</td>\n",
       "      <td>0.0</td>\n",
       "      <td>0.0</td>\n",
       "      <td>0.0</td>\n",
       "      <td>0.0</td>\n",
       "      <td>2.43</td>\n",
       "      <td>-9.51</td>\n",
       "      <td>0.34</td>\n",
       "      <td>-0.013090</td>\n",
       "      <td>-0.021817</td>\n",
       "      <td>0.005454</td>\n",
       "      <td>-0.15</td>\n",
       "      <td>-9.37</td>\n",
       "      <td>2.66</td>\n",
       "      <td>-0.001091</td>\n",
       "      <td>-0.001091</td>\n",
       "      <td>-0.004363</td>\n",
       "    </tr>\n",
       "    <tr>\n",
       "      <th>2</th>\n",
       "      <td>P01</td>\n",
       "      <td>2019-05-07</td>\n",
       "      <td>2minBassin</td>\n",
       "      <td>0.051151</td>\n",
       "      <td>1.0</td>\n",
       "      <td>0.0</td>\n",
       "      <td>0.0</td>\n",
       "      <td>0.0</td>\n",
       "      <td>1.0</td>\n",
       "      <td>0.0</td>\n",
       "      <td>50.0</td>\n",
       "      <td>19.0</td>\n",
       "      <td>18.0</td>\n",
       "      <td>34.0</td>\n",
       "      <td>30.0</td>\n",
       "      <td>34.0</td>\n",
       "      <td>40.0</td>\n",
       "      <td>19.0</td>\n",
       "      <td>62.0</td>\n",
       "      <td>11.0</td>\n",
       "      <td>5.0</td>\n",
       "      <td>7.0</td>\n",
       "      <td>12.0</td>\n",
       "      <td>45.0</td>\n",
       "      <td>30.0</td>\n",
       "      <td>17.0</td>\n",
       "      <td>10.0</td>\n",
       "      <td>15.0</td>\n",
       "      <td>11.0</td>\n",
       "      <td>15.0</td>\n",
       "      <td>0.025575</td>\n",
       "      <td>0.0</td>\n",
       "      <td>0.0</td>\n",
       "      <td>0.0</td>\n",
       "      <td>0.0</td>\n",
       "      <td>2.15</td>\n",
       "      <td>-9.62</td>\n",
       "      <td>0.51</td>\n",
       "      <td>-0.001091</td>\n",
       "      <td>-0.018544</td>\n",
       "      <td>0.007636</td>\n",
       "      <td>-0.12</td>\n",
       "      <td>-9.37</td>\n",
       "      <td>2.67</td>\n",
       "      <td>-0.002182</td>\n",
       "      <td>-0.005454</td>\n",
       "      <td>-0.003272</td>\n",
       "    </tr>\n",
       "    <tr>\n",
       "      <th>3</th>\n",
       "      <td>P01</td>\n",
       "      <td>2019-05-07</td>\n",
       "      <td>2minBassin</td>\n",
       "      <td>0.076726</td>\n",
       "      <td>1.0</td>\n",
       "      <td>0.0</td>\n",
       "      <td>0.0</td>\n",
       "      <td>0.0</td>\n",
       "      <td>1.0</td>\n",
       "      <td>0.0</td>\n",
       "      <td>49.0</td>\n",
       "      <td>19.0</td>\n",
       "      <td>18.0</td>\n",
       "      <td>33.0</td>\n",
       "      <td>30.0</td>\n",
       "      <td>34.0</td>\n",
       "      <td>40.0</td>\n",
       "      <td>19.0</td>\n",
       "      <td>62.0</td>\n",
       "      <td>11.0</td>\n",
       "      <td>5.0</td>\n",
       "      <td>7.0</td>\n",
       "      <td>12.0</td>\n",
       "      <td>45.0</td>\n",
       "      <td>31.0</td>\n",
       "      <td>17.0</td>\n",
       "      <td>11.0</td>\n",
       "      <td>15.0</td>\n",
       "      <td>11.0</td>\n",
       "      <td>15.0</td>\n",
       "      <td>0.025575</td>\n",
       "      <td>0.0</td>\n",
       "      <td>0.0</td>\n",
       "      <td>0.0</td>\n",
       "      <td>0.0</td>\n",
       "      <td>2.20</td>\n",
       "      <td>-9.63</td>\n",
       "      <td>0.62</td>\n",
       "      <td>-0.014181</td>\n",
       "      <td>0.011999</td>\n",
       "      <td>-0.003272</td>\n",
       "      <td>-0.13</td>\n",
       "      <td>-9.36</td>\n",
       "      <td>2.67</td>\n",
       "      <td>-0.002182</td>\n",
       "      <td>-0.005454</td>\n",
       "      <td>-0.002182</td>\n",
       "    </tr>\n",
       "    <tr>\n",
       "      <th>4</th>\n",
       "      <td>P01</td>\n",
       "      <td>2019-05-07</td>\n",
       "      <td>2minBassin</td>\n",
       "      <td>0.102302</td>\n",
       "      <td>1.0</td>\n",
       "      <td>0.0</td>\n",
       "      <td>0.0</td>\n",
       "      <td>0.0</td>\n",
       "      <td>1.0</td>\n",
       "      <td>0.0</td>\n",
       "      <td>50.0</td>\n",
       "      <td>19.0</td>\n",
       "      <td>18.0</td>\n",
       "      <td>34.0</td>\n",
       "      <td>30.0</td>\n",
       "      <td>34.0</td>\n",
       "      <td>40.0</td>\n",
       "      <td>19.0</td>\n",
       "      <td>63.0</td>\n",
       "      <td>11.0</td>\n",
       "      <td>5.0</td>\n",
       "      <td>7.0</td>\n",
       "      <td>13.0</td>\n",
       "      <td>46.0</td>\n",
       "      <td>31.0</td>\n",
       "      <td>17.0</td>\n",
       "      <td>11.0</td>\n",
       "      <td>15.0</td>\n",
       "      <td>11.0</td>\n",
       "      <td>15.0</td>\n",
       "      <td>0.025575</td>\n",
       "      <td>0.0</td>\n",
       "      <td>0.0</td>\n",
       "      <td>0.0</td>\n",
       "      <td>0.0</td>\n",
       "      <td>2.20</td>\n",
       "      <td>-9.51</td>\n",
       "      <td>0.93</td>\n",
       "      <td>-0.085085</td>\n",
       "      <td>0.078540</td>\n",
       "      <td>-0.041452</td>\n",
       "      <td>-0.11</td>\n",
       "      <td>-9.37</td>\n",
       "      <td>2.64</td>\n",
       "      <td>-0.003272</td>\n",
       "      <td>-0.001091</td>\n",
       "      <td>0.000000</td>\n",
       "    </tr>\n",
       "  </tbody>\n",
       "</table>\n",
       "</div>"
      ],
      "text/plain": [
       "  id_pat        date    activity  timeline  Avant_pied_droit_appui  \\\n",
       "0    P01  2019-05-07  2minBassin  0.000000                     1.0   \n",
       "1    P01  2019-05-07  2minBassin  0.025575                     1.0   \n",
       "2    P01  2019-05-07  2minBassin  0.051151                     1.0   \n",
       "3    P01  2019-05-07  2minBassin  0.076726                     1.0   \n",
       "4    P01  2019-05-07  2minBassin  0.102302                     1.0   \n",
       "\n",
       "   Medio_pied_droit_appui  Arriere_pied_droit_appui  Avant_pied_gauche_appui  \\\n",
       "0                     0.0                       0.0                      0.0   \n",
       "1                     0.0                       0.0                      0.0   \n",
       "2                     0.0                       0.0                      0.0   \n",
       "3                     0.0                       0.0                      0.0   \n",
       "4                     0.0                       0.0                      0.0   \n",
       "\n",
       "   Medio_pied_gauche_appui  Arriere_pied_gauche_appui  Semelle_Droite_Capt_1  \\\n",
       "0                      1.0                        0.0                   49.0   \n",
       "1                      1.0                        0.0                   49.0   \n",
       "2                      1.0                        0.0                   50.0   \n",
       "3                      1.0                        0.0                   49.0   \n",
       "4                      1.0                        0.0                   50.0   \n",
       "\n",
       "   Semelle_Droite_Capt_2  Semelle_Droite_Capt_3  Semelle_Droite_Capt_4  \\\n",
       "0                   19.0                   18.0                   34.0   \n",
       "1                   19.0                   18.0                   34.0   \n",
       "2                   19.0                   18.0                   34.0   \n",
       "3                   19.0                   18.0                   33.0   \n",
       "4                   19.0                   18.0                   34.0   \n",
       "\n",
       "   Semelle_Droite_Capt_5  Semelle_Droite_Capt_6  Semelle_Droite_Capt_7  \\\n",
       "0                   30.0                   34.0                   40.0   \n",
       "1                   30.0                   34.0                   40.0   \n",
       "2                   30.0                   34.0                   40.0   \n",
       "3                   30.0                   34.0                   40.0   \n",
       "4                   30.0                   34.0                   40.0   \n",
       "\n",
       "   Semelle_Droite_Capt_8  Semelle_Droite_Capt_9  Semelle_Droite_Capt_10  \\\n",
       "0                   19.0                   63.0                    11.0   \n",
       "1                   19.0                   62.0                    11.0   \n",
       "2                   19.0                   62.0                    11.0   \n",
       "3                   19.0                   62.0                    11.0   \n",
       "4                   19.0                   63.0                    11.0   \n",
       "\n",
       "   Semelle_Gauche_Capt_1  Semelle_Gauche_Capt_2  Semelle_Gauche_Capt_3  \\\n",
       "0                    5.0                    7.0                   12.0   \n",
       "1                    5.0                    7.0                   12.0   \n",
       "2                    5.0                    7.0                   12.0   \n",
       "3                    5.0                    7.0                   12.0   \n",
       "4                    5.0                    7.0                   13.0   \n",
       "\n",
       "   Semelle_Gauche_Capt_4  Semelle_Gauche_Capt_5  Semelle_Gauche_Capt_6  \\\n",
       "0                   45.0                   30.0                   17.0   \n",
       "1                   45.0                   30.0                   17.0   \n",
       "2                   45.0                   30.0                   17.0   \n",
       "3                   45.0                   31.0                   17.0   \n",
       "4                   46.0                   31.0                   17.0   \n",
       "\n",
       "   Semelle_Gauche_Capt_7  Semelle_Gauche_Capt_8  Semelle_Gauche_Capt_9  \\\n",
       "0                   11.0                   15.0                   11.0   \n",
       "1                   10.0                   15.0                   11.0   \n",
       "2                   10.0                   15.0                   11.0   \n",
       "3                   11.0                   15.0                   11.0   \n",
       "4                   11.0                   15.0                   11.0   \n",
       "\n",
       "   Semelle_Gauche_Capt_10        Te  CI_Droit_qui_se_leve  \\\n",
       "0                    15.0  0.025575                   0.0   \n",
       "1                    15.0  0.025575                   0.0   \n",
       "2                    15.0  0.025575                   0.0   \n",
       "3                    15.0  0.025575                   0.0   \n",
       "4                    15.0  0.025575                   0.0   \n",
       "\n",
       "   CI_Droit_qui_se_pose  CI_Gauche_qui_se_leve  CI_Gauche_qui_se_pose  \\\n",
       "0                   0.0                    0.0                    0.0   \n",
       "1                   0.0                    0.0                    0.0   \n",
       "2                   0.0                    0.0                    0.0   \n",
       "3                   0.0                    0.0                    0.0   \n",
       "4                   0.0                    0.0                    0.0   \n",
       "\n",
       "   Acc_x_G  Acc_y_G  Acc_z_G  Gyro_x_G  Gyro_y_G  Gyro_z_G  Acc_x_D  Acc_y_D  \\\n",
       "0     2.50    -9.38     0.25 -0.025089 -0.001091  0.021817    -0.12    -9.38   \n",
       "1     2.43    -9.51     0.34 -0.013090 -0.021817  0.005454    -0.15    -9.37   \n",
       "2     2.15    -9.62     0.51 -0.001091 -0.018544  0.007636    -0.12    -9.37   \n",
       "3     2.20    -9.63     0.62 -0.014181  0.011999 -0.003272    -0.13    -9.36   \n",
       "4     2.20    -9.51     0.93 -0.085085  0.078540 -0.041452    -0.11    -9.37   \n",
       "\n",
       "   Acc_z_D  Gyro_x_D  Gyro_y_D  Gyro_z_D  \n",
       "0     2.67 -0.002182 -0.005454 -0.001091  \n",
       "1     2.66 -0.001091 -0.001091 -0.004363  \n",
       "2     2.67 -0.002182 -0.005454 -0.003272  \n",
       "3     2.67 -0.002182 -0.005454 -0.002182  \n",
       "4     2.64 -0.003272 -0.001091  0.000000  "
      ]
     },
     "execution_count": 5,
     "metadata": {},
     "output_type": "execute_result"
    }
   ],
   "source": [
    "df.head()"
   ]
  },
  {
   "cell_type": "markdown",
   "metadata": {},
   "source": [
    "# DATA Processing"
   ]
  },
  {
   "cell_type": "code",
   "execution_count": 6,
   "metadata": {
    "ExecuteTime": {
     "end_time": "2021-02-26T10:36:38.755767Z",
     "start_time": "2021-02-26T10:36:38.742768Z"
    }
   },
   "outputs": [],
   "source": [
    "train_cols = [col for col in df.columns if col.startswith(('Acc', 'Gyro'))]\n",
    "target_cols = [col for col in df.columns if col.startswith('CI')]"
   ]
  },
  {
   "cell_type": "code",
   "execution_count": 7,
   "metadata": {
    "ExecuteTime": {
     "end_time": "2021-02-26T10:36:38.771768Z",
     "start_time": "2021-02-26T10:36:38.761766Z"
    }
   },
   "outputs": [
    {
     "data": {
      "text/plain": [
       "(1232293, 47)"
      ]
     },
     "execution_count": 7,
     "metadata": {},
     "output_type": "execute_result"
    }
   ],
   "source": [
    "df.shape"
   ]
  },
  {
   "cell_type": "code",
   "execution_count": 8,
   "metadata": {
    "ExecuteTime": {
     "end_time": "2021-02-26T10:36:38.960773Z",
     "start_time": "2021-02-26T10:36:38.775765Z"
    }
   },
   "outputs": [],
   "source": [
    "train_df = df[train_cols+target_cols]"
   ]
  },
  {
   "cell_type": "code",
   "execution_count": 9,
   "metadata": {
    "ExecuteTime": {
     "end_time": "2021-02-26T10:36:39.087762Z",
     "start_time": "2021-02-26T10:36:38.970762Z"
    }
   },
   "outputs": [
    {
     "data": {
      "text/plain": [
       "Acc_x_G                  122711\n",
       "Acc_y_G                  122711\n",
       "Acc_z_G                  122711\n",
       "Gyro_x_G                 122711\n",
       "Gyro_y_G                 122711\n",
       "Gyro_z_G                 122711\n",
       "Acc_x_D                  122711\n",
       "Acc_y_D                  122711\n",
       "Acc_z_D                  122711\n",
       "Gyro_x_D                 122711\n",
       "Gyro_y_D                 122711\n",
       "Gyro_z_D                 122711\n",
       "CI_Droit_qui_se_leve          0\n",
       "CI_Droit_qui_se_pose          0\n",
       "CI_Gauche_qui_se_leve         0\n",
       "CI_Gauche_qui_se_pose         0\n",
       "dtype: int64"
      ]
     },
     "execution_count": 9,
     "metadata": {},
     "output_type": "execute_result"
    }
   ],
   "source": [
    "train_df.isna().sum()"
   ]
  },
  {
   "cell_type": "code",
   "execution_count": 10,
   "metadata": {
    "ExecuteTime": {
     "end_time": "2021-02-26T10:36:39.500767Z",
     "start_time": "2021-02-26T10:36:39.091766Z"
    }
   },
   "outputs": [],
   "source": [
    "train_df = train_df.dropna()"
   ]
  },
  {
   "cell_type": "code",
   "execution_count": 11,
   "metadata": {
    "ExecuteTime": {
     "end_time": "2021-02-26T10:36:39.516768Z",
     "start_time": "2021-02-26T10:36:39.503768Z"
    }
   },
   "outputs": [
    {
     "name": "stdout",
     "output_type": "stream",
     "text": [
      "(1109582, 16)\n"
     ]
    }
   ],
   "source": [
    "print(train_df.shape)"
   ]
  },
  {
   "cell_type": "code",
   "execution_count": 12,
   "metadata": {
    "ExecuteTime": {
     "end_time": "2021-02-26T10:36:39.658768Z",
     "start_time": "2021-02-26T10:36:39.519764Z"
    }
   },
   "outputs": [],
   "source": [
    "X = train_df[train_cols]\n",
    "y = train_df[target_cols]"
   ]
  },
  {
   "cell_type": "code",
   "execution_count": 13,
   "metadata": {
    "ExecuteTime": {
     "end_time": "2021-02-26T10:36:40.848763Z",
     "start_time": "2021-02-26T10:36:39.661763Z"
    }
   },
   "outputs": [],
   "source": [
    "from sklearn.model_selection import train_test_split"
   ]
  },
  {
   "cell_type": "code",
   "execution_count": 14,
   "metadata": {
    "ExecuteTime": {
     "end_time": "2021-02-26T10:36:41.629762Z",
     "start_time": "2021-02-26T10:36:40.851763Z"
    }
   },
   "outputs": [],
   "source": [
    "X_train, X_test, y_train, y_test = train_test_split(\n",
    "    X, y, test_size=0.3, random_state=0\n",
    ")"
   ]
  },
  {
   "cell_type": "code",
   "execution_count": 15,
   "metadata": {
    "ExecuteTime": {
     "end_time": "2021-02-26T10:36:41.645765Z",
     "start_time": "2021-02-26T10:36:41.632766Z"
    }
   },
   "outputs": [
    {
     "name": "stdout",
     "output_type": "stream",
     "text": [
      "(776707, 12) (332875, 12) (776707, 4) (332875, 4)\n"
     ]
    }
   ],
   "source": [
    "print(X_train.shape, X_test.shape, y_train.shape, y_test.shape)"
   ]
  },
  {
   "cell_type": "code",
   "execution_count": 16,
   "metadata": {
    "ExecuteTime": {
     "end_time": "2021-02-26T10:36:41.754764Z",
     "start_time": "2021-02-26T10:36:41.648768Z"
    }
   },
   "outputs": [
    {
     "name": "stdout",
     "output_type": "stream",
     "text": [
      "CI_Droit_qui_se_leve     6185.0\n",
      "CI_Droit_qui_se_pose     6152.0\n",
      "CI_Gauche_qui_se_leve    6225.0\n",
      "CI_Gauche_qui_se_pose    6240.0\n",
      "dtype: float64\n",
      "CI_Droit_qui_se_leve     2611.0\n",
      "CI_Droit_qui_se_pose     2644.0\n",
      "CI_Gauche_qui_se_leve    2680.0\n",
      "CI_Gauche_qui_se_pose    2665.0\n",
      "dtype: float64\n"
     ]
    }
   ],
   "source": [
    "print(y_train.sum())\n",
    "print(y_test.sum())"
   ]
  },
  {
   "cell_type": "code",
   "execution_count": 17,
   "metadata": {
    "ExecuteTime": {
     "end_time": "2021-02-26T10:36:41.896764Z",
     "start_time": "2021-02-26T10:36:41.758765Z"
    }
   },
   "outputs": [
    {
     "name": "stdout",
     "output_type": "stream",
     "text": [
      "CI_Droit_qui_se_leve     0.796311\n",
      "CI_Droit_qui_se_pose     0.792062\n",
      "CI_Gauche_qui_se_leve    0.801461\n",
      "CI_Gauche_qui_se_pose    0.803392\n",
      "dtype: float64\n",
      "CI_Droit_qui_se_leve     0.784379\n",
      "CI_Droit_qui_se_pose     0.794292\n",
      "CI_Gauche_qui_se_leve    0.805107\n",
      "CI_Gauche_qui_se_pose    0.800601\n",
      "dtype: float64\n"
     ]
    }
   ],
   "source": [
    "print(y_train.sum() / y_train.shape[0] * 100)\n",
    "print(y_test.sum() / y_test.shape[0] * 100)"
   ]
  },
  {
   "cell_type": "markdown",
   "metadata": {},
   "source": [
    "# Model training"
   ]
  },
  {
   "cell_type": "code",
   "execution_count": 18,
   "metadata": {
    "ExecuteTime": {
     "end_time": "2021-02-26T10:36:47.254763Z",
     "start_time": "2021-02-26T10:36:41.908762Z"
    }
   },
   "outputs": [],
   "source": [
    "from tensorflow import keras"
   ]
  },
  {
   "cell_type": "code",
   "execution_count": 19,
   "metadata": {
    "ExecuteTime": {
     "end_time": "2021-02-26T10:36:47.270766Z",
     "start_time": "2021-02-26T10:36:47.257763Z"
    }
   },
   "outputs": [],
   "source": [
    "X_train = X_train.to_numpy().reshape((X_train.shape[0], X_train.shape[1], 1))\n",
    "X_test = X_test.to_numpy().reshape((X_test.shape[0], X_test.shape[1], 1))\n",
    "\n",
    "y_train = y_train.to_numpy()\n",
    "y_test = y_test.to_numpy()"
   ]
  },
  {
   "cell_type": "code",
   "execution_count": 20,
   "metadata": {
    "ExecuteTime": {
     "end_time": "2021-02-26T10:36:47.302768Z",
     "start_time": "2021-02-26T10:36:47.273765Z"
    }
   },
   "outputs": [],
   "source": [
    "num_classes = len(target_cols)"
   ]
  },
  {
   "cell_type": "code",
   "execution_count": 21,
   "metadata": {
    "ExecuteTime": {
     "end_time": "2021-02-26T10:36:47.953764Z",
     "start_time": "2021-02-26T10:36:47.305768Z"
    }
   },
   "outputs": [],
   "source": [
    "# Shuffle training data\n",
    "idx = np.random.permutation(len(X_train))\n",
    "X_train = X_train[idx]\n",
    "y_train = y_train[idx]"
   ]
  },
  {
   "cell_type": "code",
   "execution_count": 70,
   "metadata": {
    "ExecuteTime": {
     "end_time": "2021-02-26T14:38:02.637089Z",
     "start_time": "2021-02-26T14:38:00.872091Z"
    }
   },
   "outputs": [],
   "source": [
    "def make_model(input_shape):\n",
    "    input_layer = keras.layers.Input(input_shape)\n",
    "\n",
    "    conv1 = keras.layers.Conv1D(filters=64, kernel_size=3, padding=\"same\")(input_layer)\n",
    "    conv1 = keras.layers.BatchNormalization()(conv1)\n",
    "    conv1 = keras.layers.ReLU()(conv1)\n",
    "\n",
    "    conv2 = keras.layers.Conv1D(filters=64, kernel_size=3, padding=\"same\")(conv1)\n",
    "    conv2 = keras.layers.BatchNormalization()(conv2)\n",
    "    conv2 = keras.layers.ReLU()(conv2)\n",
    "\n",
    "    conv3 = keras.layers.Conv1D(filters=64, kernel_size=3, padding=\"same\")(conv2)\n",
    "    conv3 = keras.layers.BatchNormalization()(conv3)\n",
    "    conv3 = keras.layers.ReLU()(conv3)\n",
    "\n",
    "    gap = keras.layers.GlobalAveragePooling1D()(conv3)\n",
    "\n",
    "    output_layer = keras.layers.Dense(num_classes, activation=\"softmax\")(gap)\n",
    "\n",
    "    return keras.models.Model(inputs=input_layer, outputs=output_layer)\n",
    "\n",
    "\n",
    "model = make_model(input_shape=X_train.shape[1:])\n",
    "#keras.utils.plot_model(model, show_shapes=True)\n"
   ]
  },
  {
   "cell_type": "code",
   "execution_count": 71,
   "metadata": {
    "ExecuteTime": {
     "end_time": "2021-02-26T14:44:21.675737Z",
     "start_time": "2021-02-26T14:38:02.640094Z"
    }
   },
   "outputs": [
    {
     "name": "stdout",
     "output_type": "stream",
     "text": [
      "Epoch 1/5\n",
      "4855/4855 [==============================] - 84s 17ms/step - loss: 0.0456 - categorical_accuracy: 0.2991 - val_loss: 0.0452 - val_categorical_accuracy: 0.3120\n",
      "Epoch 2/5\n",
      "4855/4855 [==============================] - 82s 17ms/step - loss: 0.0464 - categorical_accuracy: 0.3644 - val_loss: 0.0486 - val_categorical_accuracy: 0.2318\n",
      "Epoch 3/5\n",
      "4855/4855 [==============================] - 71s 15ms/step - loss: 0.0493 - categorical_accuracy: 0.3557 - val_loss: 0.0505 - val_categorical_accuracy: 0.3110\n",
      "Epoch 4/5\n",
      "4855/4855 [==============================] - 71s 15ms/step - loss: 0.0525 - categorical_accuracy: 0.3359 - val_loss: 0.0541 - val_categorical_accuracy: 0.4325\n",
      "Epoch 5/5\n",
      "4855/4855 [==============================] - 70s 15ms/step - loss: 0.0573 - categorical_accuracy: 0.3422 - val_loss: 0.0586 - val_categorical_accuracy: 0.3253\n"
     ]
    }
   ],
   "source": [
    "epochs = 5\n",
    "batch_size = 128\n",
    "\n",
    "callbacks = [\n",
    "    keras.callbacks.ModelCheckpoint(\n",
    "        \"best_model.h5\", save_best_only=True, monitor=\"val_loss\"\n",
    "    ),\n",
    "    keras.callbacks.ReduceLROnPlateau(\n",
    "        monitor=\"val_loss\", factor=0.5, patience=20, min_lr=0.0001\n",
    "    ),\n",
    "    keras.callbacks.EarlyStopping(monitor=\"val_loss\", patience=50, verbose=1),\n",
    "]\n",
    "model.compile(\n",
    "    optimizer=\"adam\",\n",
    "    loss=keras.losses.CategoricalCrossentropy(),\n",
    "    metrics=[\"categorical_accuracy\"],\n",
    ")\n",
    "history = model.fit(\n",
    "    X_train,\n",
    "    y_train,\n",
    "    batch_size=batch_size,\n",
    "    epochs=epochs,\n",
    "    callbacks=callbacks,\n",
    "    validation_split=0.2,\n",
    "    verbose=1,\n",
    ")\n"
   ]
  },
  {
   "cell_type": "code",
   "execution_count": 72,
   "metadata": {
    "ExecuteTime": {
     "end_time": "2021-02-26T21:11:50.441914Z",
     "start_time": "2021-02-26T21:11:43.352913Z"
    }
   },
   "outputs": [
    {
     "data": {
      "image/png": "[encoded data removed]",
      "text/plain": [
       "<Figure size 432x288 with 1 Axes>"
      ]
     },
     "metadata": {
      "needs_background": "light"
     },
     "output_type": "display_data"
    }
   ],
   "source": [
    "metric = \"categorical_accuracy\"\n",
    "plt.figure()\n",
    "plt.plot(history.history[metric])\n",
    "plt.plot(history.history[\"val_\" + metric])\n",
    "plt.title(\"model \" + metric)\n",
    "plt.ylabel(metric, fontsize=\"large\")\n",
    "plt.xlabel(\"epoch\", fontsize=\"large\")\n",
    "plt.legend([\"train\", \"val\"], loc=\"best\")\n",
    "plt.show()"
   ]
  },
  {
   "cell_type": "code",
   "execution_count": 73,
   "metadata": {
    "ExecuteTime": {
     "end_time": "2021-02-26T21:12:18.253915Z",
     "start_time": "2021-02-26T21:11:53.935916Z"
    }
   },
   "outputs": [],
   "source": [
    "y_pred = model.predict(X_test)"
   ]
  },
  {
   "cell_type": "code",
   "execution_count": 74,
   "metadata": {
    "ExecuteTime": {
     "end_time": "2021-02-26T21:12:18.332916Z",
     "start_time": "2021-02-26T21:12:18.265917Z"
    }
   },
   "outputs": [],
   "source": [
    "from sklearn.metrics import classification_report\n",
    "from sklearn.metrics import confusion_matrix"
   ]
  },
  {
   "cell_type": "code",
   "execution_count": 75,
   "metadata": {
    "ExecuteTime": {
     "end_time": "2021-02-26T21:12:19.516916Z",
     "start_time": "2021-02-26T21:12:18.336915Z"
    }
   },
   "outputs": [
    {
     "name": "stdout",
     "output_type": "stream",
     "text": [
      "                       precision    recall  f1-score   support\n",
      "\n",
      " CI_Droit_qui_se_leve       0.97      0.33      0.49    325122\n",
      " CI_Droit_qui_se_pose       0.00      0.11      0.01      2632\n",
      "CI_Gauche_qui_se_leve       0.01      0.24      0.01      2584\n",
      "CI_Gauche_qui_se_pose       0.02      0.32      0.03      2537\n",
      "\n",
      "             accuracy                           0.33    332875\n",
      "            macro avg       0.25      0.25      0.14    332875\n",
      "         weighted avg       0.95      0.33      0.48    332875\n",
      "\n"
     ]
    }
   ],
   "source": [
    "print(classification_report(np.argmax(y_test, axis=1), np.argmax(y_pred, axis=1), target_names=target_cols))"
   ]
  },
  {
   "cell_type": "markdown",
   "metadata": {},
   "source": [
    "**TODOs list:**\n",
    "- création des sequences temporelles\n",
    "- élimination des séquences sans catégorie / labéliser en tant que \"Autre\"\n",
    "- "
   ]
  },
  {
   "cell_type": "code",
   "execution_count": null,
   "metadata": {},
   "outputs": [],
   "source": []
  }
 ],
 "metadata": {
  "kernelspec": {
   "display_name": "Python 3",
   "language": "python",
   "name": "python3"
  },
  "language_info": {
   "codemirror_mode": {
    "name": "ipython",
    "version": 3
   },
   "file_extension": ".py",
   "mimetype": "text/x-python",
   "name": "python",
   "nbconvert_exporter": "python",
   "pygments_lexer": "ipython3",
   "version": "3.8.5"
  },
  "toc": {
   "base_numbering": 1,
   "nav_menu": {},
   "number_sections": true,
   "sideBar": true,
   "skip_h1_title": false,
   "title_cell": "Table of Contents",
   "title_sidebar": "Contents",
   "toc_cell": false,
   "toc_position": {},
   "toc_section_display": true,
   "toc_window_display": false
  }
 },
 "nbformat": 4,
 "nbformat_minor": 4
}
